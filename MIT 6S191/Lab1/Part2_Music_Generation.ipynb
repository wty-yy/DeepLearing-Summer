{
 "cells": [
  {
   "cell_type": "markdown",
   "metadata": {
    "id": "3wNPOZG7qkBn"
   },
   "source": [
    "# Part2: Music Generation with RNNs\n",
    "\n",
    "我们将在这部分建立循环神经网络(Recurrent Neural Network, RNN)用于音乐生成. 我们将用\n",
    "[ABC记谱法(ABC notation)](https://en.wikipedia.org/wiki/ABC_notation) 进行乐谱的读取和输出.\n",
    "\n",
    "由于abc记谱法转wav需要用到linux下的两个应用，而Windows下是无法使用的，所以我自己找了一个转换api，http://abcplus.sourceforge.net\n",
    "在该网站上 abcmidi 部分有Windows可执行程序下载，我已将可执行文件放到与代码相同的目录下，名称为：abc2midi.exe.\n",
    "\n",
    "以下代码以Windows系统为主，不使用Linux中外部api调用，所以无法使用 `mld.lab1.play_song()` 该方法，需要我们自己实现将abc文件转为midi文件."
   ]
  },
  {
   "cell_type": "markdown",
   "metadata": {
    "id": "VL8Xm-FqsLc-"
   },
   "source": [
    "## 2.1 Dependencies\n",
    "\n",
    "首先安装课程相关库，依赖包."
   ]
  },
  {
   "cell_type": "code",
   "execution_count": 1,
   "metadata": {
    "colab": {
     "base_uri": "https://localhost:8080/"
    },
    "id": "HDBWkgcSsaN2",
    "outputId": "0372b29e-cccd-4c71-b8e6-1f4bdb78d11a"
   },
   "outputs": [],
   "source": [
    "import tensorflow as tf\n",
    "from tensorflow import keras\n",
    "from tensorflow.keras import layers\n",
    "\n",
    "# Download and import the MIT 6.S191 package\n",
    "import mitdeeplearning as mdl\n",
    "\n",
    "import numpy as np\n",
    "import os  # 执行系统命令\n",
    "import pathlib  # 文件目录操作\n",
    "import IPython.display as ipythondisplay  # 将wav音频文件在浏览器中直接打开\n",
    "from tqdm import tqdm  # 可视化进度条\n",
    "\n",
    "# 确保使用的是GPU版本的tensorflow，不然训练效率很低\n",
    "assert len(tf.config.list_physical_devices('GPU')) > 0"
   ]
  },
  {
   "cell_type": "markdown",
   "metadata": {
    "id": "7hJPAFD0tN92"
   },
   "source": [
    "## 2.2 Dataset\n",
    "\n",
    "使用MIT库中已经处理好的爱尔兰民谣(Irish folk songs)，以ABC记谱法表示. 下面让我们导入数据集，并查看其中的样本. 一共有 $817$ 首歌曲."
   ]
  },
  {
   "cell_type": "code",
   "execution_count": 2,
   "metadata": {
    "colab": {
     "base_uri": "https://localhost:8080/"
    },
    "id": "VNogBdqLuvey",
    "outputId": "967fa024-48d3-4432-f554-be07635cde93",
    "scrolled": true
   },
   "outputs": [
    {
     "name": "stdout",
     "output_type": "stream",
     "text": [
      "Found 817 songs in text\n",
      "\"X:1\\nT:Alexander's\\nZ: id:dc-hornpipe-1\\nM:C|\\nL:1/8\\nK:D Major\\n(3ABc|dAFA DFAd|fdcd FAdf|gfge fefd|(3efe (3dcB A2 (3ABc|!\\ndAFA DFAd|fdcd FAdf|gfge fefd|(3efe dc d2:|!\\nAG|FAdA FAdA|GBdB GBdB|Acec Acec|dfaf gecA|!\\nFAdA FAdA|GBdB GBdB|Aceg fefd|(3efe dc d2:|!\"\n",
      "\n",
      "Example song: \n",
      "X:1\n",
      "T:Alexander's\n",
      "Z: id:dc-hornpipe-1\n",
      "M:C|\n",
      "L:1/8\n",
      "K:D Major\n",
      "(3ABc|dAFA DFAd|fdcd FAdf|gfge fefd|(3efe (3dcB A2 (3ABc|!\n",
      "dAFA DFAd|fdcd FAdf|gfge fefd|(3efe dc d2:|!\n",
      "AG|FAdA FAdA|GBdB GBdB|Acec Acec|dfaf gecA|!\n",
      "FAdA FAdA|GBdB GBdB|Aceg fefd|(3efe dc d2:|!\n",
      "\n",
      "X:32\n",
      "T:Crabs in the Skillet\n",
      "Z: id:dc-jig-26\n",
      "M:6/8\n",
      "L:1/8\n",
      "K:G Dorian\n",
      "D|G3 d2F|G2A B2c|d_ed cBA|dcB AGF|!\n",
      "G3 d2F|G2A B2d|c=Bc fed|cAF F2:|!\n",
      "d|gag gfe|fgf fed|cde fed|cAG G2d|!\n",
      "gag gfe|fgf fed|cde fed|cAF F2:|!\n",
      "D|G3 A3|B3 c3|d_ed cBA|dcB AGF|!\n",
      "G3 A3|B3 d3|c=Bc fed|cAF F2:|!\n"
     ]
    }
   ],
   "source": [
    "# 加载训练数据\n",
    "songs = mdl.lab1.load_training_data()\n",
    "\n",
    "# 查看两个曲谱\n",
    "print(repr(songs[0]))\n",
    "example_song = '\\n\\n'.join([songs[0], songs[100]])\n",
    "print('\\nExample song: ')\n",
    "print(example_song)"
   ]
  },
  {
   "cell_type": "markdown",
   "metadata": {
    "id": "5cbDcS-lvb2k"
   },
   "source": [
    "下面需要我们自己将abc文件转化为wav文件再通过Jupyter直接查看，要用到的相关工具我已放到 `./tools` 文件夹下了，下面编写转化代码."
   ]
  },
  {
   "cell_type": "code",
   "execution_count": null,
   "metadata": {
    "colab": {
     "base_uri": "https://localhost:8080/",
     "height": 75
    },
    "id": "qUfSASUIvgEU",
    "outputId": "744d5db3-a87a-4471-da9c-55828b1083ff"
   },
   "outputs": [],
   "source": [
    "abc2midi_path = pathlib.Path(r'.\\tools\\abc2midi.exe')\n",
    "midi2wav_path = pathlib.Path(r'.\\tools\\timidity.exe')\n",
    "def play_song(song, fname='tmp'):  # 可以将字符串形式的abc记谱法，转化为wav文件，并播放出来\n",
    "    for song_path in pathlib.Path.cwd().glob('*.wav'):  # 将过去生成的音乐清空\n",
    "        os.remove(song_path)\n",
    "    song_path = pathlib.Path(f\"{fname}.abc\")\n",
    "    with open(song_path, 'w') as file:\n",
    "        file.write(song)  # 写入到./tmp.abc文件中\n",
    "    cmd = f\"{abc2midi_path} {song_path}\"\n",
    "    ret = os.system(cmd)  # 转换 abc -> midi\n",
    "    print(f\"{song_path} -> midi {'Failed' if ret else 'OK'}!\")\n",
    "    os.remove(song_path)  # 删除./tmp.abc文件\n",
    "    for i, song_path in enumerate(pathlib.Path.cwd().glob('*.mid')):  # 查找所有生成的.mid音乐\n",
    "        song_name = song_path.name[:-4]  # 获取文件名前缀\n",
    "        print(f\"{i+1}. \", end='')\n",
    "        cmd = f\"{midi2wav_path} {song_name+'.mid'} -Ow {song_name+'.wav'}\"\n",
    "        ret = os.system(cmd)  # 转换 midi -> wav\n",
    "        print(f\"{song_path} -> wav {'Failed' if ret else 'OK'}!\")\n",
    "        ipythondisplay.display(ipythondisplay.Audio(song_name+'.wav'))  # 显示到Jupyter中\n",
    "        os.remove(song_name+'.mid')  # 删除.mid文件\n",
    "\n",
    "play_song(example_song)"
   ]
  },
  {
   "cell_type": "markdown",
   "metadata": {
    "id": "HTi_UCPrS1B0"
   },
   "source": [
    "这段代码已整合到 `myTools.py` 文件中，便于调用，在简化代码的文档 `Part2_Music_Generation_simplify` 中会直接调用.\n",
    "\n",
    "接下来，我们先要得到所有曲谱中出现的字符一共有多少种. 通过Python自带的set集合可以很容易得到这个去重后的集合."
   ]
  },
  {
   "cell_type": "code",
   "execution_count": 4,
   "metadata": {
    "colab": {
     "base_uri": "https://localhost:8080/"
    },
    "id": "dWPdRjvWTRrV",
    "outputId": "053588ac-102f-4447-a6d4-91312a01dcd4"
   },
   "outputs": [
    {
     "name": "stdout",
     "output_type": "stream",
     "text": [
      "There are 83 unique characters in the dataset.\n",
      "[(' ', 18676), ('|', 16446), ('d', 14489), ('A', 12382), ('e', 11507), ('B', 11325), ('\\n', 9437), ('2', 9217), ('G', 8325), ('c', 7971)]\n"
     ]
    }
   ],
   "source": [
    "# 将所有的曲谱合成到一个string中\n",
    "songs_joined = '\\n\\n'.join(songs)\n",
    "\n",
    "# 获得所有去重后的字符\n",
    "vocab = sorted(set(songs_joined))\n",
    "print(f\"There are {len(vocab)} unique characters in the dataset.\")\n",
    "\n",
    "# 每个字符对应的频率\n",
    "vocab_num = {}\n",
    "for word in vocab:\n",
    "    vocab_num[word] = songs_joined.count(word)\n",
    "vocab_num = sorted(vocab_num.items(), key=lambda x: x[1], reverse=True)\n",
    "print(vocab_num[:10])  # 产看前十个出现频率最高的字符"
   ]
  },
  {
   "cell_type": "markdown",
   "metadata": {
    "id": "XBlEiCs9Ujf8"
   },
   "source": [
    "## 2.3 Vectorize the text\n",
    "\n",
    "在进入训练RNN前，我们需要将每个乐谱文本转化为对应的向量化. 为了完成这个操作，需要创建两个用于查找字典：\n",
    "\n",
    "1. 将字符映射到数字.\n",
    "2. 将数字映射到字符.\n",
    "\n",
    "- `enumerate(seq)`：枚举函数，`seq` 为一个可迭代对象，返回 `seq` 每个元素遍历到的下标与该元素构成的tuple列表.\n",
    "\n",
    "[Python enumerate() 函数](https://www.runoob.com/python/python-func-enumerate.html)"
   ]
  },
  {
   "cell_type": "code",
   "execution_count": 5,
   "metadata": {
    "id": "5uJITbaGVWGZ"
   },
   "outputs": [],
   "source": [
    "### Define numerical representation of text ###\n",
    "# 字符映射到数字\n",
    "char2idx = {u[0]:i for i, u in enumerate(vocab_num)}\n",
    "# 数字映射到字符\n",
    "idx2char = np.array([x[0] for x in vocab_num])"
   ]
  },
  {
   "cell_type": "markdown",
   "metadata": {
    "id": "ASfBTDjbZfsp"
   },
   "source": [
    "下面让我们看看字符集和数字的对应效果.\n",
    "\n",
    "- `repr()` 方法可以将读取到的格式字符，比如换行符、制表符，转化为其相应的转义字符.\n",
    "\n",
    "其中 `{repr(char):<4}` 和 `{char2idx[char]:>3}` 为 `f-string` 的格式化技巧，可以参考 [Python f-strings: Everything you need to know!\n",
    "](https://datagy.io/python-f-strings/)."
   ]
  },
  {
   "cell_type": "code",
   "execution_count": 6,
   "metadata": {
    "colab": {
     "base_uri": "https://localhost:8080/"
    },
    "id": "QAw5uIeqZxR1",
    "outputId": "6c83be4a-0159-49ba-bb5c-99d2fab4d3eb",
    "scrolled": true
   },
   "outputs": [
    {
     "name": "stdout",
     "output_type": "stream",
     "text": [
      "{\n",
      "  ' ' :   0,   '|' :   1,   'd' :   2,   'A' :   3,   'e' :   4, \n",
      "  'B' :   5,   '\\n':   6,   '2' :   7,   'G' :   8,   'c' :   9, \n",
      "  'f' :  10,   ':' :  11,   'g' :  12,   'a' :  13,   'F' :  14, \n",
      "  'D' :  15,   'E' :  16,   '!' :  17,   '3' :  18,   'i' :  19,   ...\n",
      "}\n"
     ]
    }
   ],
   "source": [
    "print('{')\n",
    "for char,_ in zip(char2idx, range(20)):\n",
    "    if _ % 5 == 0 and _ != 0:\n",
    "        print()\n",
    "    print(f\"  {repr(char):<4}: {char2idx[char]:>3}\", end=', ')\n",
    "print('  ...\\n}')"
   ]
  },
  {
   "cell_type": "code",
   "execution_count": 7,
   "metadata": {
    "colab": {
     "base_uri": "https://localhost:8080/"
    },
    "id": "vHw-Np6icpQz",
    "outputId": "553a25e1-4cd5-4eb1-de04-675a44c10e1c"
   },
   "outputs": [
    {
     "name": "stdout",
     "output_type": "stream",
     "text": [
      "A test: [0 1 2 3 4]\n",
      "'X:1\\nT:Alex' --- characters mapped to int ---> [34 11 23  6 33 11  3 27  4 60]\n"
     ]
    }
   ],
   "source": [
    "### 向量化全部歌曲 ###\n",
    "def vectorize_string(string):\n",
    "    return np.array([char2idx[c] for c in string])\n",
    "\n",
    "# 测试几个\n",
    "print(f\"A test: {vectorize_string(' |dAe')}\")\n",
    "\n",
    "vectorized_songs = vectorize_string(songs_joined)\n",
    "print(f\"{repr(songs_joined[:10])} --- characters mapped to int ---> {vectorized_songs[:10]}\")"
   ]
  },
  {
   "cell_type": "markdown",
   "metadata": {
    "id": "Y40n7HeoepJR"
   },
   "source": [
    "## Create training examples and targets\n",
    "\n",
    "接下来我们将从上述 `vectorized_songs` 向量化歌曲集中随机选取 `seq_length` 长度作为样本的输入特征和输出标签，假设输入特征是从 `st` 下标开始，则对应的输出标签是从 `st+1` 下标开始. 比如 `seq_length=4`，以 `Hello` 作为数据集，输入为 `Hell` 则输出为 `ello`.\n",
    "\n",
    "再将其堆叠成batch，每个batch中有 `batch_size` 个样本.\n",
    "\n",
    "- `np.random.choice(a, size=None, replace=True, p=None)`：`a` 为一维数组或为正整数，从一维数组 `a` 中（若 `a` 为正整数，则用 `np.arange(a)` 替代，即 $\\{0,1,\\cdots, a-1\\}$）随机抽取 `size` 个元素组成一个一维数组；`replace` 为是否取到相同的元素，默认是可以的；`p` 为一个和 `a` 一样大小的一维数组，为提取元素所满足的概率分布，默认为均匀分布."
   ]
  },
  {
   "cell_type": "code",
   "execution_count": 8,
   "metadata": {
    "colab": {
     "base_uri": "https://localhost:8080/"
    },
    "id": "YRea0rEigJk5",
    "outputId": "d847842c-b5b3-4695-d731-f5036abecbc6"
   },
   "outputs": [
    {
     "name": "stdout",
     "output_type": "stream",
     "text": [
      "x.shape = (2, 10), y.shape = (2, 10)\n",
      "[PASS] test_batch_func_types\n",
      "[PASS] test_batch_func_shapes\n",
      "[PASS] test_batch_func_next_step\n",
      "======\n",
      "[PASS] passed all tests!\n"
     ]
    }
   ],
   "source": [
    "### 创建训练集的一个batch，返回样本的特征和标签 ###\n",
    "\n",
    "def get_batch(s, seq_length, batch_size):\n",
    "    # 总长度\n",
    "    n = vectorized_songs.shape[0] - 1\n",
    "    # 随机选取每个batch中样本下标的开始位置(依据均匀分布)\n",
    "    idx = np.random.choice(n - seq_length, batch_size)\n",
    "    # 构建训练集batch的特征和标签\n",
    "    x_batch = np.array([s[st:st+seq_length] for st in idx])\n",
    "    y_batch = np.array([s[st+1:st+seq_length+1] for st in idx])\n",
    "    return x_batch, y_batch\n",
    "\n",
    "x, y = get_batch(vectorized_songs, 10, 2)\n",
    "print(f\"x.shape = {x.shape}, y.shape = {y.shape}\")\n",
    "\n",
    "# 这里调用mit的测试函数，以确保上面函数没有写错\n",
    "test_args = (vectorized_songs, 10, 2)\n",
    "if not mdl.lab1.test_batch_func_types(get_batch, test_args) or \\\n",
    "   not mdl.lab1.test_batch_func_shapes(get_batch, test_args) or \\\n",
    "   not mdl.lab1.test_batch_func_next_step(get_batch, test_args): \n",
    "   print(\"======\\n[FAIL] could not pass tests\")\n",
    "else: \n",
    "   print(\"======\\n[PASS] passed all tests!\")"
   ]
  },
  {
   "cell_type": "markdown",
   "metadata": {
    "id": "jjBUD3lAqWsP"
   },
   "source": [
    "对于输入向量中的每一个，每个索引都在一个单个时间戳中处理. 我们的RNN模型都尝试预测出下一个字符的索引.\n",
    "\n",
    "下面是一个样本中的每个单个时间戳的输入对应的输出."
   ]
  },
  {
   "cell_type": "code",
   "execution_count": 9,
   "metadata": {
    "colab": {
     "base_uri": "https://localhost:8080/"
    },
    "id": "bRB-EwkDpGNY",
    "outputId": "beb9af39-6627-49fd-9d78-d40f488d7f6b"
   },
   "outputs": [
    {
     "name": "stdout",
     "output_type": "stream",
     "text": [
      "Step   0\n",
      "  input: 10 ('f')\n",
      "  expected output: 18 ('3')\n",
      "Step   1\n",
      "  input: 18 ('3')\n",
      "  expected output: 2 ('d')\n",
      "Step   2\n",
      "  input: 2 ('d')\n",
      "  expected output: 0 (' ')\n",
      "Step   3\n",
      "  input: 0 (' ')\n",
      "  expected output: 4 ('e')\n",
      "Step   4\n",
      "  input: 4 ('e')\n",
      "  expected output: 18 ('3')\n"
     ]
    }
   ],
   "source": [
    "x_batch, y_batch = get_batch(vectorized_songs, seq_length=5, batch_size=1)\n",
    "\n",
    "for i, (input_idx, target_idx) in enumerate(zip(np.squeeze(x_batch), np.squeeze(y_batch))):\n",
    "    print(\"Step {:3d}\".format(i))\n",
    "    print(\"  input: {} ({:s})\".format(input_idx, repr(idx2char[input_idx])))\n",
    "    print(\"  expected output: {} ({:s})\".format(target_idx, repr(idx2char[target_idx])))"
   ]
  },
  {
   "cell_type": "markdown",
   "metadata": {
    "id": "9V-kJ9jmq8QM"
   },
   "source": [
    "## 2.4 The Recurrent Neural Network (RNN) model\n",
    "\n",
    "现在我们开始构建RNN训练模型，并使用该模型生成新的乐曲. 训练数据为上面我们提取出的音乐片段.\n",
    "\n",
    "该模型基于LSTM神经元，将该输出连接到全连接层(Dense Layer)中，最后根据输出判断下一个字符.\n",
    "\n",
    "下面是我们将用到的几种层：\n",
    "\n",
    "- [`tf.keras.layers.Embedding(input_dim, output_dim, mask_zero=False)`](https://tensorflow.google.cn/api_docs/python/tf/keras/layers/Embedding?hl=en)：`input_dim` 为单词库的大小；`output_dim` 为输出的维数；`mask_zero` 为布尔型，使用可变长的循环神经网络时需要用到，会将索引为0的作为掩码，在后续网络中将跳过处理（类似dropout），同时这需要后续网络都支持掩码功能. 这样做还需要一个条件，即不能将0作为特定单词的索引，而上述单词库中可以看到编号就是从1开始的，正好满足条件.\n",
    "\n",
    "- [`tf.keras.layers.LSTM(units)`](https://tensorflow.google.cn/api_docs/python/tf/keras/layers/LSTM?hl=en)：`units` 为一个正整数，表示输出向量的维数.\n",
    "\n",
    "![LSTM](https://s1.ax1x.com/2022/07/27/vpE7E8.png)"
   ]
  },
  {
   "cell_type": "markdown",
   "metadata": {
    "id": "O7rUqUHEwmx-"
   },
   "source": [
    "### Define the RNN model\n",
    "下面开始定义RNN模型."
   ]
  },
  {
   "cell_type": "code",
   "execution_count": 10,
   "metadata": {
    "colab": {
     "base_uri": "https://localhost:8080/"
    },
    "id": "BvZLjhfuzJ9a",
    "outputId": "878862cd-6a09-4169-ce59-6326fcfb6fa5"
   },
   "outputs": [
    {
     "name": "stdout",
     "output_type": "stream",
     "text": [
      "Model: \"sequential\"\n",
      "_________________________________________________________________\n",
      "Layer (type)                 Output Shape              Param #   \n",
      "=================================================================\n",
      "embedding (Embedding)        (None, None, 256)         21248     \n",
      "_________________________________________________________________\n",
      "lstm (LSTM)                  (None, None, 1024)        5246976   \n",
      "_________________________________________________________________\n",
      "dense (Dense)                (None, None, 83)          85075     \n",
      "=================================================================\n",
      "Total params: 5,353,299\n",
      "Trainable params: 5,353,299\n",
      "Non-trainable params: 0\n",
      "_________________________________________________________________\n"
     ]
    }
   ],
   "source": [
    "def build_model(vocab_size, embedding_dim, rnn_units):\n",
    "    model = keras.Sequential([\n",
    "        layers.Embedding(vocab_size, embedding_dim),\n",
    "        layers.LSTM(rnn_units, return_sequences=True),\n",
    "        layers.Dense(vocab_size)\n",
    "    ])\n",
    "    return model\n",
    "\n",
    "model = build_model(len(vocab), embedding_dim=256, rnn_units=1024)\n",
    "model.summary()"
   ]
  },
  {
   "cell_type": "markdown",
   "metadata": {
    "id": "w22Tm5HH3J0q"
   },
   "source": [
    "### Text out the RNN model\n",
    "\n",
    "使用一些简单的例子用来测试我们的模型建立是否正确."
   ]
  },
  {
   "cell_type": "code",
   "execution_count": 11,
   "metadata": {
    "colab": {
     "base_uri": "https://localhost:8080/"
    },
    "id": "zInflpEx5Yoz",
    "outputId": "a29a3d7d-0e4a-4a0c-838e-9f528426f127"
   },
   "outputs": [
    {
     "name": "stdout",
     "output_type": "stream",
     "text": [
      "Input shape:  (32, 100) # (batch_size, sequence_length)\n",
      "Output shape: (32, 100, 83) # (batch_size, sequence_length, vocab_size)\n"
     ]
    }
   ],
   "source": [
    "x, y = get_batch(vectorized_songs, seq_length=100, batch_size=32)\n",
    "pred = model(x)\n",
    "print(f\"Input shape:  {x.shape} # (batch_size, sequence_length)\")\n",
    "print(f\"Output shape: {pred.shape} # (batch_size, sequence_length, vocab_size)\")"
   ]
  },
  {
   "cell_type": "markdown",
   "metadata": {
    "id": "bWEf7zMb6F7R"
   },
   "source": [
    "### Predictions from the untrained model\n",
    "\n",
    "由于最后输出使用的是 `softmax`，\n",
    "\n",
    "- `tf.random.categroical(logits, num_samples)`：根据categorical distribution概率分布(就是多项分布，二项分布的推广)选取出元素，`logits` 为概率分布取 `log`，`num_samples` 为取出的元素个数.\n",
    "\n",
    "- `tf.squeeze(tensor, axis=None)`：将 `tensor` 中维数为 $1$ 维度删去，`axis` 可指定删去特定的维度.(常用于删除batch对应的层)"
   ]
  },
  {
   "cell_type": "code",
   "execution_count": 12,
   "metadata": {
    "colab": {
     "base_uri": "https://localhost:8080/"
    },
    "id": "2AMzWQGv6NOk",
    "outputId": "1e1aef65-cac8-4165-e938-ef3817937b98",
    "scrolled": true
   },
   "outputs": [
    {
     "name": "stdout",
     "output_type": "stream",
     "text": [
      "[100   1]\n",
      "(100,)\n"
     ]
    }
   ],
   "source": [
    "sampled_indices = tf.random.categorical(pred[0], num_samples=1)\n",
    "print(tf.shape(sampled_indices).numpy())\n",
    "sampled_indices = tf.squeeze(sampled_indices).numpy()\n",
    "print(sampled_indices.shape)"
   ]
  },
  {
   "cell_type": "markdown",
   "metadata": {
    "id": "MlKspey5_HjL"
   },
   "source": [
    "我们对比下输出结果，在没训练情况下结果完全混乱的."
   ]
  },
  {
   "cell_type": "code",
   "execution_count": 13,
   "metadata": {
    "colab": {
     "base_uri": "https://localhost:8080/"
    },
    "id": "cUlsbOok-v8G",
    "outputId": "f29c9734-cca3-4476-c588-d303068672f7"
   },
   "outputs": [
    {
     "name": "stdout",
     "output_type": "stream",
     "text": [
      "Input: \n",
      " 'b|afef dBB2|AFF2 ABde|fedc d3|]!\\n\\nX:108\\nT:Five Mile Chase\\nZ: id:dc-reel-100\\nM:C\\nL:1/8\\nK:G Major\\nB|G2'\n",
      "\n",
      "Next Char Predictions: \n",
      " 'Ynx(TX,JpONpI8xWfOq-AkRD>-QoR9q4q(i=6|5|INptLMRat8\\n8[E<53c/OT^k=W:EhJS=gnlb<PwZ[!Nsvf<bD>A|Tc7mQAwFQ'\n"
     ]
    }
   ],
   "source": [
    "print(\"Input: \\n\", repr(''.join(idx2char[x[0]])))\n",
    "print()\n",
    "print(\"Next Char Predictions: \\n\", repr(\"\".join(idx2char[sampled_indices])))"
   ]
  },
  {
   "cell_type": "markdown",
   "metadata": {
    "id": "UXwMh74a_Q4g"
   },
   "source": [
    "### 2.5 Training the model: loss and training operations\n",
    "\n",
    "定义损失函数(Loss function)"
   ]
  },
  {
   "cell_type": "code",
   "execution_count": 14,
   "metadata": {
    "colab": {
     "base_uri": "https://localhost:8080/"
    },
    "id": "zYNvXhQ8_a8f",
    "outputId": "314644e1-fa91-41a7-c948-c225301bb580"
   },
   "outputs": [
    {
     "name": "stdout",
     "output_type": "stream",
     "text": [
      "Prediction shape: (32, 100, 83)  # (batch_size, sequence_length, vocab_size)\n",
      "scalar_loss:      4.418574333190918\n"
     ]
    }
   ],
   "source": [
    "def compute_loss(labels, logits):\n",
    "    loss = keras.losses.sparse_categorical_crossentropy(labels, logits, from_logits=True)\n",
    "    return loss\n",
    "\n",
    "example_batch_loss = compute_loss(y, pred)\n",
    "\n",
    "print(f\"Prediction shape: {pred.shape}  # (batch_size, sequence_length, vocab_size)\")\n",
    "print(f\"scalar_loss:      {example_batch_loss.numpy().mean()}\")"
   ]
  },
  {
   "cell_type": "markdown",
   "metadata": {
    "id": "7GQRrdpAAqKU"
   },
   "source": [
    "超参数(hyperparameters)配置."
   ]
  },
  {
   "cell_type": "code",
   "execution_count": 15,
   "metadata": {
    "id": "xwJMuv4OA0tf"
   },
   "outputs": [],
   "source": [
    "# Optimization parameters:\n",
    "num_training_iterations = 2000\n",
    "batch_size = 4  # between 1 and 64\n",
    "seq_length = 100  # between 50 and 500\n",
    "learning_rate = 5e-3  # between 1e-5 and 1e-1\n",
    "\n",
    "# Model parameters:\n",
    "vocab_size = len(vocab)\n",
    "embedding_dim = 256\n",
    "rnn_units = 1024  # between 1 and 2048\n",
    "\n",
    "# Checkpoint location:\n",
    "checkpoint_dir = './training_checkpoints'\n",
    "checkpoint_prefix = os.path.join(checkpoint_dir, 'my_ckpt')"
   ]
  },
  {
   "cell_type": "markdown",
   "metadata": {
    "id": "STmG_cQRB2yj"
   },
   "source": [
    "定义优化器(optimizer)和训练选项，优化器建议使用 [`Adam`](https://tensorflow.google.cn/api_docs/python/tf/keras/optimizers/Adam?hl=en) 和 [`Adagrad`](https://tensorflow.google.cn/api_docs/python/tf/keras/optimizers/Adagrad?hl=en).\n",
    "\n",
    "并且反向传播时使用 [`tf.GradientTape`](https://tensorflow.google.cn/api_docs/python/tf/GradientTape?hl=en) 进行对Loss函数进行最小化.\n",
    "\n",
    "还需要使用 `tqdm` 输出当前模型训练的进度条."
   ]
  },
  {
   "cell_type": "code",
   "execution_count": 16,
   "metadata": {
    "colab": {
     "base_uri": "https://localhost:8080/",
     "height": 558
    },
    "id": "oKw-phd1DD_W",
    "outputId": "4d5f17c3-ed9d-4bf6-9f31-a7afee451a7d",
    "scrolled": true
   },
   "outputs": [
    {
     "data": {
      "image/png": "[encoded data removed]",
      "text/plain": [
       "<Figure size 432x288 with 1 Axes>"
      ]
     },
     "metadata": {},
     "output_type": "display_data"
    },
    {
     "name": "stderr",
     "output_type": "stream",
     "text": [
      "100%|██████████████████████████████████████████████████████████████████████████████| 2000/2000 [00:34<00:00, 58.17it/s]\n"
     ]
    },
    {
     "data": {
      "image/png": "[encoded data removed]",
      "text/plain": [
       "<Figure size 432x288 with 1 Axes>"
      ]
     },
     "metadata": {
      "needs_background": "light"
     },
     "output_type": "display_data"
    }
   ],
   "source": [
    "model = build_model(vocab_size, embedding_dim, rnn_units)\n",
    "optimizer = tf.keras.optimizers.Adam(learning_rate)\n",
    "\n",
    "def train_step(x, y):\n",
    "    with tf.GradientTape() as tape:\n",
    "        y_hat = model(x)\n",
    "        loss = compute_loss(y, y_hat)\n",
    "    grads = tape.gradient(loss, model.trainable_variables)\n",
    "    optimizer.apply_gradients(zip(grads, model.trainable_variables))\n",
    "    return loss\n",
    "\n",
    "##################\n",
    "# Begin training!#\n",
    "##################\n",
    "\n",
    "history = []\n",
    "plotter = mdl.util.PeriodicPlotter(sec=2, xlabel='Iterations', ylabel='Loss')\n",
    "if hasattr(tqdm, '_instances'): tqdm._instances.clear() # clear if it exists\n",
    "\n",
    "for iter in tqdm(range(num_training_iterations)):\n",
    "    # 获得训练所需的样本并进行一次传播\n",
    "    x_batch, y_batch = get_batch(vectorized_songs, seq_length, batch_size)\n",
    "    loss = train_step(x_batch, y_batch)\n",
    "\n",
    "    # 记录当前的loss，绘制图像\n",
    "    history.append(loss.numpy().mean())\n",
    "    plotter.plot(history)\n",
    "\n",
    "    # 在更新节点处保存模型\n",
    "    if iter % 100 == 0:\n",
    "        model.save_weights(checkpoint_prefix)\n",
    "\n",
    "model.save_weights(checkpoint_prefix)"
   ]
  },
  {
   "cell_type": "markdown",
   "metadata": {
    "id": "4ZFlNycnKQ33"
   },
   "source": [
    "### Restore the latest checkpoint\n",
    "\n",
    "这里演示如何使用储存的权重数据.\n",
    "\n",
    "- [`model.load_weights(filepath)`](https://tensorflow.google.cn/api_docs/python/tf/keras/Model?hl=en#load_weights)：从路径 `filepath` 的TensorFlow权重文件中载入整个网络的权重.\n",
    "\n",
    "- [`tf.train.latest_checkpoint(checkpoint_dir)`](https://tensorflow.google.cn/api_docs/python/tf/train/latest_checkpoint?hl=en)：返回最近一次的保存点保存的文件路径."
   ]
  },
  {
   "cell_type": "code",
   "execution_count": 17,
   "metadata": {
    "colab": {
     "base_uri": "https://localhost:8080/"
    },
    "id": "2ESUalfRKQ33",
    "outputId": "38668e26-21c7-4bd5-be6b-a83906039c86"
   },
   "outputs": [
    {
     "name": "stdout",
     "output_type": "stream",
     "text": [
      "untraining loss: 4.41864013671875\n",
      "training loss:   0.9809256792068481\n",
      "Input: \n",
      " 'b|afef dBB2|AFF2 ABde|fedc d3|]!\\n\\nX:108\\nT:Five Mile Chase\\nZ: id:dc-reel-100\\nM:C\\nL:1/8\\nK:G Major\\nB|G2'\n",
      "Next Char Predictions: \n",
      " \"ggfdc g3B2|AdD2 ABde|]2cB Bc:]!\\n\\nX:191\\nT:Tere Togv'Laurs\\nZ: id:dc-heel-101\\nM:C\\nL:1/8\\nK:G Major\\nG|ABG\"\n"
     ]
    }
   ],
   "source": [
    "# 随机输出一个样本的loss，batch_size=1\n",
    "def show_one_loss(model):\n",
    "    x, y = get_batch(vectorized_songs, 100, 1)\n",
    "    pred = model(x)\n",
    "    loss = compute_loss(y, pred)\n",
    "    return loss.numpy().mean()\n",
    "\n",
    "model1 = build_model(vocab_size, embedding_dim, rnn_units)\n",
    "print(f\"untraining loss: {show_one_loss(model1)}\")\n",
    "model1.load_weights(tf.train.latest_checkpoint(checkpoint_dir))\n",
    "print(f\"training loss:   {show_one_loss(model1)}\")\n",
    "\n",
    "# 预测一段\n",
    "print(\"Input: \\n\", repr(''.join(idx2char[x[0]])))\n",
    "pred = model(x)\n",
    "pred = tf.random.categorical(pred[0], num_samples=1)\n",
    "pred = tf.squeeze(pred).numpy()\n",
    "print(\"Next Char Predictions: \\n\", repr(\"\".join(idx2char[pred])))"
   ]
  },
  {
   "cell_type": "markdown",
   "metadata": {
    "id": "-q-UyK4eKQ34"
   },
   "source": [
    "## 2.6 Generate music using the RNN model\n",
    "\n",
    "### The prediction procedure\n",
    "\n",
    "为了使得步骤简单，我们使用batch_size=1进行预测. 使用代码生成ABC记谱法的音乐格式.\n",
    "\n",
    "- 初始化RNN状态需要一个启动序列\"seed\"，不能从无开始直接进行生成，然后设定我们期望生成序列的长度.\n",
    "\n",
    "- 使用启动序列通过RNN的输出得到一个概率分布，根据该分布得到下一个字符的预测.\n",
    "\n",
    "- 使用多项分布计算每个预测的字符，该预测的字符将作为模型中下一个输入.\n",
    "\n",
    "- 由于将上一次的输出作为下一次预测的输入，所以RNN是可以根据具有之前相关信息进行预测的.\n",
    "\n",
    "![prediction](https://s2.loli.net/2022/07/27/iDFBm6Pnbwga3lh.png)"
   ]
  },
  {
   "cell_type": "code",
   "execution_count": 21,
   "metadata": {
    "colab": {
     "base_uri": "https://localhost:8080/"
    },
    "id": "OLO-eKF-KQ34",
    "outputId": "ef08b2cf-566a-4779-fa82-c6e265976b92"
   },
   "outputs": [
    {
     "name": "stderr",
     "output_type": "stream",
     "text": [
      "100%|█████████████████████████████████████████████████████████████████████████████| 1000/1000 [00:03<00:00, 260.77it/s]\n"
     ]
    }
   ],
   "source": [
    "def generate_text(model, start_string, generation_length=1000):\n",
    "    input_eval = vectorize_string(start_string)\n",
    "\n",
    "    text_generated = []\n",
    "    model.reset_states()\n",
    "    for i in tqdm(range(generation_length)):\n",
    "        pred = model(input_eval.reshape(1, -1))\n",
    "        pred = tf.squeeze(pred, 0)  # 将batch层删去\n",
    "        pred_id = tf.random.categorical(pred, num_samples=1)[-1, 0].numpy()  # 取出下标数字\n",
    "        input_eval = np.array([pred_id])  # 作为下一个预测值的输入\n",
    "        text_generated.append(idx2char[pred_id])\n",
    "    return (start_string +  ''.join(text_generated))\n",
    "\n",
    "generated_text = generate_text(model, start_string='X', generation_length=1000)"
   ]
  },
  {
   "cell_type": "markdown",
   "metadata": {
    "id": "vJpHdQTWKQ34"
   },
   "source": [
    "### Play back the generated music"
   ]
  },
  {
   "cell_type": "code",
   "execution_count": null,
   "metadata": {
    "colab": {
     "base_uri": "https://localhost:8080/",
     "height": 261
    },
    "id": "GxAhagy5LjMj",
    "outputId": "a61a44aa-ced8-431f-fa99-7c77af9a451d"
   },
   "outputs": [],
   "source": [
    "play_song(generated_text)"
   ]
  }
 ],
 "metadata": {
  "accelerator": "GPU",
  "colab": {
   "collapsed_sections": [],
   "name": "Part2 Music Generation.ipynb",
   "provenance": []
  },
  "gpuClass": "standard",
  "kernelspec": {
   "display_name": "Python 3 (ipykernel)",
   "language": "python",
   "name": "python3"
  },
  "language_info": {
   "codemirror_mode": {
    "name": "ipython",
    "version": 3
   },
   "file_extension": ".py",
   "mimetype": "text/x-python",
   "name": "python",
   "nbconvert_exporter": "python",
   "pygments_lexer": "ipython3",
   "version": "3.9.13"
  }
 },
 "nbformat": 4,
 "nbformat_minor": 1
}
