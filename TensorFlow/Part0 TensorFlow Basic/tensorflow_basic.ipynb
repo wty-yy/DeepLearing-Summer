{
  "nbformat": 4,
  "nbformat_minor": 0,
  "metadata": {
    "colab": {
      "name": "tensorflow_basic.ipynb",
      "provenance": [],
      "collapsed_sections": []
    },
    "kernelspec": {
      "name": "python3",
      "display_name": "Python 3"
    },
    "language_info": {
      "name": "python"
    }
  },
  "cells": [
    {
      "cell_type": "markdown",
      "source": [
        "教学视频：[YouTube - TensorFlow 2.0 Complete Course - Python Neural Networks for Beginners Tutorial](https://www.youtube.com/watch?v=tPYj3fFJGjk&list=LL&index=1&t=1898s)\n",
        "\n",
        "## 工作原理\n",
        "\n",
        "TensorFlow由两个组成部件构成:\n",
        "- Graphs\n",
        "- Sessions\n",
        "\n",
        "Graph：TensorFlow的工作原理是创建一个计算图（a graph of defined computations），使用TensorFlow的本质就是创建一个计算图，当我们建立变量（Variable）的时候，变量就会被添加到图中去. 它只是一个定义的计算式，就如同写下一个方程，当我们没有确定变量（value）的时候，我们无法进行计算出确切值（evaluate），当 $v1+v2=v3$ 时，如果要计算 $v3$ 我们必须先获得 $v1,v2$ 的值.\n",
        "\n",
        "Session：一种方式去执行graph的一部分或整个graph. 当我们开始一个session时，往往从图的最底层开始，因为它不依赖于其他变量，然后开始遍历整个图，开始计算graph的不同位置（这一点有点类似于拓扑排序）."
      ],
      "metadata": {
        "id": "h_PmbImpieZv"
      }
    },
    {
      "cell_type": "markdown",
      "source": [
        "第一步，在collabratory中选择正确的TensorFlow版本"
      ],
      "metadata": {
        "id": "vxcdA4Z5Rc4m"
      }
    },
    {
      "cell_type": "code",
      "source": [
        "%tensorflow_version 2.x  # 如果不在notebook中无需这句话"
      ],
      "metadata": {
        "colab": {
          "base_uri": "https://localhost:8080/"
        },
        "id": "AJa_byYVRxrw",
        "outputId": "cadc2f7a-b3d8-4929-8c6a-5e261b702dca"
      },
      "execution_count": null,
      "outputs": [
        {
          "output_type": "stream",
          "name": "stdout",
          "text": [
            "`%tensorflow_version` only switches the major version: 1.x or 2.x.\n",
            "You set: `2.x  # 如果不在notebook中无需这句话`. This will be interpreted as: `2.x`.\n",
            "\n",
            "\n",
            "TensorFlow 2.x selected.\n"
          ]
        }
      ]
    },
    {
      "cell_type": "code",
      "source": [
        "import tensorflow as tf  # 导入TensorFlow包\n",
        "print(tf.version)  # 查看版本"
      ],
      "metadata": {
        "colab": {
          "base_uri": "https://localhost:8080/"
        },
        "id": "mbTlDYacR_GG",
        "outputId": "7cc5adc7-6031-4d75-ad78-adf36ed2b093"
      },
      "execution_count": null,
      "outputs": [
        {
          "output_type": "stream",
          "name": "stdout",
          "text": [
            "<module 'tensorflow._api.v2.version' from '/usr/local/lib/python3.7/dist-packages/tensorflow/_api/v2/version/__init__.py'>\n"
          ]
        }
      ]
    },
    {
      "cell_type": "markdown",
      "source": [
        "## Tensor（张量）\n",
        "tensor是一种对潜在高维空间中的向量或矩阵的泛化（a generalization of vectors and matrices to potentially higher dimensions）\n",
        "\n",
        "这里的vector（向量）可以理解为一种数据点（data point），并且不是定义在某个特定的坐标系中的.\n",
        "\n",
        "在TensorFlow中tensor就是一种**运算的定义**，最终会转化为value. 当我们创建graph的过程中，就是创建了一堆tensors（a graph of Tensor objects that details how tensors are related），它们表示了tensor之间的联系. 当我们执行一个session的时候，也就是执行graph的不同部分，本质上就是执行不同的tensors并且从中获得不同的结果.\n",
        "\n",
        "tensor包含一个data type（tensor所存储的数据类型）和shape（tensor的形状）.\n",
        "\n",
        "**data type**：float32, int32, string and others.\n",
        "\n",
        "**shape**: Represents the dimension of data."
      ],
      "metadata": {
        "id": "r4ftySgESQXY"
      }
    },
    {
      "cell_type": "markdown",
      "source": [
        "### 创建Tensors\n",
        "\n",
        "下面给出了一些创造不同张量的例子，这几个tensor称为scalar value（标量值，仅表示一个值），与之对应的是vector value（向量值，表示多个值），创建方法为`tf.Variable(value, data_type)`."
      ],
      "metadata": {
        "id": "l0vUKc0KYkru"
      }
    },
    {
      "cell_type": "code",
      "source": [
        "string = tf.Variable(\"this is a string\", tf.string)\n",
        "number = tf.Variable(324, tf.int16)\n",
        "floating = tf.Variable(3.1415, tf.float64)\n",
        "print(string)"
      ],
      "metadata": {
        "colab": {
          "base_uri": "https://localhost:8080/"
        },
        "id": "u8wcDT6aYfwl",
        "outputId": "acc49247-2adb-4b80-cd7d-cd3aed30dd6c"
      },
      "execution_count": null,
      "outputs": [
        {
          "output_type": "stream",
          "name": "stdout",
          "text": [
            "<tf.Variable 'Variable:0' shape=() dtype=string, numpy=b'this is a string'>\n"
          ]
        }
      ]
    },
    {
      "cell_type": "markdown",
      "source": [
        "### Rank/Degree of Tensors（tensor的阶数）\n",
        "上面的代码所创建的就是0阶的tensor，就只有一个值.\n",
        "\n",
        "当我们创建的tensor包含array或list，则至少为1阶；由最深的array或list的层数，决定一个tensor的阶数. 如下面两个例子："
      ],
      "metadata": {
        "id": "NyMcNeD-Y_MV"
      }
    },
    {
      "cell_type": "code",
      "source": [
        "rank1_tensor = tf.Variable(['test', 'ok', 'time'], tf.string)  # 1阶，通常称为vector\n",
        "rank2_tensor = tf.Variable([['test', 'ok', 'bye'], ['test', 'yes', 'hi']], tf.string)  # 2阶，通常称为matrix，必须为长方形序列才能成功创建\n",
        "rank3_tensor = tf.Variable([[[0, 0], [0, 0]], [[1, 1], [1, 1]]], tf.int32)  # 两个2阶的matrices堆叠\n",
        "rank3_tensor1 = tf.Variable([[[0, 0], [0, 0]], [[1, 1], [1, 1]], [[2, 2], [2, 2]]], tf.int32)  # 三个２阶matrices堆叠\n",
        "rank3_tensor2 = tf.Variable([[[0], [0]], [[1], [1]], [[2], [2]]], tf.int32)  # 三个2x1的matrices堆叠\n",
        "rank4_tensor = tf.Variable([[[[0], [0]], [[1], [1]], [[2], [2]]], [[[0], [0]], [[1], [1]], [[2], [2]]]], tf.int32)  # 同理4阶或更高阶的tensor"
      ],
      "metadata": {
        "id": "15YM6UyfDJe5"
      },
      "execution_count": null,
      "outputs": []
    },
    {
      "cell_type": "markdown",
      "source": [
        "判断一个tensor的阶数方法："
      ],
      "metadata": {
        "id": "HVCk195IE1uk"
      }
    },
    {
      "cell_type": "code",
      "source": [
        "tf.rank(rank2_tensor)  # numpy=阶数"
      ],
      "metadata": {
        "colab": {
          "base_uri": "https://localhost:8080/"
        },
        "id": "ULqdqveBFMIy",
        "outputId": "42c63d69-cb2f-4a02-caaf-f5646e3a5ed0"
      },
      "execution_count": null,
      "outputs": [
        {
          "output_type": "execute_result",
          "data": {
            "text/plain": [
              "<tf.Tensor: shape=(), dtype=int32, numpy=2>"
            ]
          },
          "metadata": {},
          "execution_count": 73
        }
      ]
    },
    {
      "cell_type": "markdown",
      "source": [
        "### Shape of Tensors（tensor的形状）\n",
        "shape告诉我们每一个维数上的元素的个数, rank3_tensor2.shape=(3, 2, 1)因为它是由3层2x1的matrices堆叠而成的."
      ],
      "metadata": {
        "id": "pqnx_tQ5GlOQ"
      }
    },
    {
      "cell_type": "code",
      "source": [
        "print(rank2_tensor.shape)"
      ],
      "metadata": {
        "id": "HpLFbKQKG7oZ",
        "colab": {
          "base_uri": "https://localhost:8080/"
        },
        "outputId": "b6898b39-7bbb-4952-e0eb-f3120655e991"
      },
      "execution_count": null,
      "outputs": [
        {
          "output_type": "stream",
          "name": "stdout",
          "text": [
            "(2, 3)\n"
          ]
        }
      ]
    },
    {
      "cell_type": "markdown",
      "source": [
        "### 改变Shape\n",
        "相同的元素可以有不同的shape进行排列，可以使用`reshape()`函数方便的转换tensor的shape, reshape后的形状必须满足之前的总元素个数（不然咋顺着重排）."
      ],
      "metadata": {
        "id": "fHDrEIYcLWBw"
      }
    },
    {
      "cell_type": "code",
      "source": [
        "tensor1 = tf.ones([1, 2, 3])  # 定义一个shape=[3, 2, 1]的由1充满的tensor\n",
        "tensor2 = tf.reshape(tensor1, [2, 3, 1])  # reshape原有元素到shape=[2, 3, 1]\n",
        "tensor3 = tf.reshape(tensor2, [2, -1])  # 给定前几个维度，自动计算补全最后一个维度，所以前几个维度必须整除全部元素个数\n",
        "tensor4 = tf.reshape(tensor3, [1, 2, -1])\n",
        "print(tensor1)\n",
        "print(tensor2)\n",
        "print(tensor3)\n",
        "print(tensor4)"
      ],
      "metadata": {
        "colab": {
          "base_uri": "https://localhost:8080/"
        },
        "id": "ZxK4vJtVMuHo",
        "outputId": "008a28b8-9a66-4ee1-d60e-140f7c2c0cb9"
      },
      "execution_count": null,
      "outputs": [
        {
          "output_type": "stream",
          "name": "stdout",
          "text": [
            "tf.Tensor(\n",
            "[[[1. 1. 1.]\n",
            "  [1. 1. 1.]]], shape=(1, 2, 3), dtype=float32)\n",
            "tf.Tensor(\n",
            "[[[1.]\n",
            "  [1.]\n",
            "  [1.]]\n",
            "\n",
            " [[1.]\n",
            "  [1.]\n",
            "  [1.]]], shape=(2, 3, 1), dtype=float32)\n",
            "tf.Tensor(\n",
            "[[1. 1. 1.]\n",
            " [1. 1. 1.]], shape=(2, 3), dtype=float32)\n",
            "tf.Tensor(\n",
            "[[[1. 1. 1.]\n",
            "  [1. 1. 1.]]], shape=(1, 2, 3), dtype=float32)\n"
          ]
        }
      ]
    },
    {
      "cell_type": "markdown",
      "source": [
        "### tensor的类型\n",
        "以下给出几种常用的tensor类型：\n",
        "- Variable\n",
        "- Constant\n",
        "- Placeholder\n",
        "- SparseTensor\n",
        "\n",
        "其中前两者使用较多，上述全部类型中**除了**Variable以外都是不变的（immuttable），即在执行运算过程中无法改变.\n",
        "\n",
        "当我们有可能改变一个变量的时候，就是用Variable."
      ],
      "metadata": {
        "id": "auR43KNERRol"
      }
    },
    {
      "cell_type": "markdown",
      "source": [
        "### Evaluating Tensor\n",
        "Evaluate（评估）即计算出tensor的值，由于tensor表示graph中的计算式，需要将tensor放到graph中去，并计算出它的值."
      ],
      "metadata": {
        "id": "drUIRrtwSbit"
      }
    }
  ]
}