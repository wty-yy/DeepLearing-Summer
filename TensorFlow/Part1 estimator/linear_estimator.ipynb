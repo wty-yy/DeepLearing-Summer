{
 "cells": [
  {
   "cell_type": "markdown",
   "id": "994f96cf",
   "metadata": {},
   "source": [
    "分为如下5步：\n",
    "1. 数据导入\n",
    "2. 构建特征列，将数据类型转化categorical->numeric\n",
    "3. 构建input function，返回dataset（i. 从切片构建dataset. ii. 判断是否需要打乱. iii. 分划batch，重复epoch次.）\n",
    "4. 使用特征列创建linear_estimator\n",
    "5. 训练，评估，预测（train, evaluate, predict）"
   ]
  },
  {
   "cell_type": "code",
   "execution_count": 1,
   "id": "b21eb018",
   "metadata": {},
   "outputs": [],
   "source": [
    "import tensorflow as tf\n",
    "import numpy as np\n",
    "import pandas as pd\n",
    "import matplotlib.pyplot as plt\n",
    "from IPython.display import clear_output  # 清除jupyter notebook输出框中的内容"
   ]
  },
  {
   "cell_type": "code",
   "execution_count": 2,
   "id": "b630396c",
   "metadata": {},
   "outputs": [],
   "source": [
    "df_train = pd.read_csv('https://storage.googleapis.com/tf-datasets/titanic/train.csv')\n",
    "df_eval = pd.read_csv('https://storage.googleapis.com/tf-datasets/titanic/eval.csv')\n",
    "y_train = df_train.pop('survived')\n",
    "y_eval = df_eval.pop('survived')"
   ]
  },
  {
   "cell_type": "code",
   "execution_count": 3,
   "id": "26c439ad",
   "metadata": {},
   "outputs": [
    {
     "data": {
      "text/plain": [
       "0      0\n",
       "1      1\n",
       "2      1\n",
       "3      1\n",
       "4      0\n",
       "      ..\n",
       "622    0\n",
       "623    0\n",
       "624    1\n",
       "625    0\n",
       "626    0\n",
       "Name: survived, Length: 627, dtype: int64"
      ]
     },
     "execution_count": 3,
     "metadata": {},
     "output_type": "execute_result"
    }
   ],
   "source": [
    "y_train  # 0表示死亡，1表示存活"
   ]
  },
  {
   "cell_type": "code",
   "execution_count": 4,
   "id": "85ec4ab5",
   "metadata": {},
   "outputs": [
    {
     "data": {
      "text/plain": [
       "sex                    object\n",
       "age                   float64\n",
       "n_siblings_spouses      int64\n",
       "parch                   int64\n",
       "fare                  float64\n",
       "class                  object\n",
       "deck                   object\n",
       "embark_town            object\n",
       "alone                  object\n",
       "dtype: object"
      ]
     },
     "execution_count": 4,
     "metadata": {},
     "output_type": "execute_result"
    }
   ],
   "source": [
    "df_train.dtypes"
   ]
  },
  {
   "cell_type": "code",
   "execution_count": 5,
   "id": "9b021ab2",
   "metadata": {},
   "outputs": [],
   "source": [
    "# 处理categorical数据，全部转为numeric\n",
    "cate = ['sex', 'class', 'deck', 'embark_town', 'alone']\n",
    "numeric = ['age', 'n_siblings_spouses', 'parch', 'fare']\n",
    "feature = []  # 特征列\n",
    "for col in cate:  # categorical\n",
    "    word = df_train[col].unique()\n",
    "    feature.append(tf.feature_column.categorical_column_with_vocabulary_list(col, word))\n",
    "for col in numeric:  # numeric\n",
    "    feature.append(tf.feature_column.numeric_column(col))"
   ]
  },
  {
   "cell_type": "code",
   "execution_count": 6,
   "id": "9344a569",
   "metadata": {},
   "outputs": [
    {
     "data": {
      "text/plain": [
       "0      0\n",
       "1      1\n",
       "2      1\n",
       "3      1\n",
       "4      0\n",
       "      ..\n",
       "622    0\n",
       "623    0\n",
       "624    1\n",
       "625    0\n",
       "626    0\n",
       "Name: survived, Length: 627, dtype: int64"
      ]
     },
     "execution_count": 6,
     "metadata": {},
     "output_type": "execute_result"
    }
   ],
   "source": [
    "y_train"
   ]
  },
  {
   "cell_type": "code",
   "execution_count": 7,
   "id": "ef27dfe6",
   "metadata": {
    "scrolled": true
   },
   "outputs": [],
   "source": [
    "# 构建Input function\n",
    "def make_input_fn(x, y, epochs=10, shuffle=True, batch_size=32):\n",
    "    def input_fn():\n",
    "        ds = tf.data.Dataset.from_tensor_slices((dict(x), y))\n",
    "        if shuffle:\n",
    "            ds.shuffle(1000)\n",
    "        ds = ds.batch(batch_size).repeat(epochs)\n",
    "        return ds\n",
    "    return input_fn\n",
    "\n",
    "train_input_fn = make_input_fn(df_train, y_train)\n",
    "eval_input_fn = make_input_fn(df_eval, y_eval, epochs=1, shuffle=False)"
   ]
  },
  {
   "cell_type": "code",
   "execution_count": 8,
   "id": "bca55823",
   "metadata": {},
   "outputs": [],
   "source": [
    "# 创建 linear estimator\n",
    "linear = tf.estimator.LinearClassifier(feature)\n",
    "clear_output()"
   ]
  },
  {
   "cell_type": "code",
   "execution_count": 9,
   "id": "59924bf0",
   "metadata": {},
   "outputs": [],
   "source": [
    "linear.train(train_input_fn)  # 训练\n",
    "result = linear.evaluate(eval_input_fn)  # 评估\n",
    "clear_output()"
   ]
  },
  {
   "cell_type": "code",
   "execution_count": 10,
   "id": "820201da",
   "metadata": {},
   "outputs": [
    {
     "data": {
      "text/plain": [
       "{'accuracy': 0.7651515,\n",
       " 'accuracy_baseline': 0.625,\n",
       " 'auc': 0.83966935,\n",
       " 'auc_precision_recall': 0.7873041,\n",
       " 'average_loss': 0.47249624,\n",
       " 'label/mean': 0.375,\n",
       " 'loss': 0.45887482,\n",
       " 'precision': 0.69473684,\n",
       " 'prediction/mean': 0.35994655,\n",
       " 'recall': 0.6666667,\n",
       " 'global_step': 200}"
      ]
     },
     "execution_count": 10,
     "metadata": {},
     "output_type": "execute_result"
    }
   ],
   "source": [
    "result"
   ]
  },
  {
   "cell_type": "code",
   "execution_count": 11,
   "id": "f8090009",
   "metadata": {},
   "outputs": [],
   "source": [
    "predict = list(linear.predict(eval_input_fn))  # 预测\n",
    "clear_output()"
   ]
  },
  {
   "cell_type": "code",
   "execution_count": 12,
   "id": "ca9c8b3e",
   "metadata": {
    "scrolled": false
   },
   "outputs": [
    {
     "name": "stdout",
     "output_type": "stream",
     "text": [
      "sex                          male\n",
      "age                          20.0\n",
      "n_siblings_spouses              0\n",
      "parch                           0\n",
      "fare                       7.8542\n",
      "class                       Third\n",
      "deck                      unknown\n",
      "embark_town           Southampton\n",
      "alone                           y\n",
      "Name: 20, dtype: object\n",
      "真实存活情况: 0\n",
      "预测存活率: 0.09286709874868393\n"
     ]
    }
   ],
   "source": [
    "idx = 20  # 对第idx个人进行预测\n",
    "print(df_eval.loc[idx])\n",
    "print('真实存活情况: {}'.format(y_eval[idx]))\n",
    "print('预测存活率: {}'.format(predict[idx]['probabilities'][1]))"
   ]
  },
  {
   "cell_type": "code",
   "execution_count": 13,
   "id": "7f794c03",
   "metadata": {},
   "outputs": [],
   "source": [
    "# 自定义一个数据进行预测\n",
    "df_pred = pd.DataFrame([{'sex': 'female', 'age': 22., 'n_siblings_spouses': 1, 'parch': 0, 'fare': 7., 'class': 'Third',\n",
    "                        'deck': 'unknow', 'embark_town': 'unknow', 'alone': 'n'}])\n",
    "y_pred = pd.DataFrame([1])\n",
    "pred_input_fn = make_input_fn(df_pred, y_pred, epochs=1, shuffle=False)\n",
    "predict = list(linear.predict(pred_input_fn))\n",
    "clear_output()"
   ]
  },
  {
   "cell_type": "code",
   "execution_count": 14,
   "id": "66f80d18",
   "metadata": {},
   "outputs": [
    {
     "data": {
      "text/plain": [
       "{'logits': array([0.7727388], dtype=float32),\n",
       " 'logistic': array([0.684113], dtype=float32),\n",
       " 'probabilities': array([0.31588694, 0.6841131 ], dtype=float32),\n",
       " 'class_ids': array([1], dtype=int64),\n",
       " 'classes': array([b'1'], dtype=object),\n",
       " 'all_class_ids': array([0, 1]),\n",
       " 'all_classes': array([b'0', b'1'], dtype=object)}"
      ]
     },
     "execution_count": 14,
     "metadata": {},
     "output_type": "execute_result"
    }
   ],
   "source": [
    "predict[0]"
   ]
  }
 ],
 "metadata": {
  "kernelspec": {
   "display_name": "Python 3 (ipykernel)",
   "language": "python",
   "name": "python3"
  },
  "language_info": {
   "codemirror_mode": {
    "name": "ipython",
    "version": 3
   },
   "file_extension": ".py",
   "mimetype": "text/x-python",
   "name": "python",
   "nbconvert_exporter": "python",
   "pygments_lexer": "ipython3",
   "version": "3.9.7"
  }
 },
 "nbformat": 4,
 "nbformat_minor": 5
}
