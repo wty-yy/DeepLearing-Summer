{
 "cells": [
  {
   "cell_type": "code",
   "execution_count": 15,
   "id": "2d2d3556",
   "metadata": {},
   "outputs": [],
   "source": [
    "import tensorflow as tf\n",
    "import pandas as pd\n",
    "from IPython.display import clear_output"
   ]
  },
  {
   "cell_type": "code",
   "execution_count": 3,
   "id": "d98df903",
   "metadata": {},
   "outputs": [],
   "source": [
    "train_path = tf.keras.utils.get_file(\n",
    "    \"iris_training.csv\", \"https://storage.googleapis.com/download.tensorflow.org/data/iris_training.csv\")\n",
    "test_path = tf.keras.utils.get_file(\n",
    "    \"iris_test.csv\", \"https://storage.googleapis.com/download.tensorflow.org/data/iris_test.csv\")"
   ]
  },
  {
   "cell_type": "code",
   "execution_count": 4,
   "id": "ae1829f1",
   "metadata": {},
   "outputs": [],
   "source": [
    "columns = ['SepalLength', 'SepalWidth', 'PetalLength', 'PetalWidth', 'Species']\n",
    "labels = ['Setosa', 'Versicolor', 'Virginica']\n",
    "train = pd.read_csv(train_path, header=0, names=columns)\n",
    "test = pd.read_csv(test_path, header=0, names=columns)"
   ]
  },
  {
   "cell_type": "code",
   "execution_count": 5,
   "id": "5d2d05be",
   "metadata": {
    "scrolled": true
   },
   "outputs": [
    {
     "data": {
      "text/html": [
       "<div>\n",
       "<style scoped>\n",
       "    .dataframe tbody tr th:only-of-type {\n",
       "        vertical-align: middle;\n",
       "    }\n",
       "\n",
       "    .dataframe tbody tr th {\n",
       "        vertical-align: top;\n",
       "    }\n",
       "\n",
       "    .dataframe thead th {\n",
       "        text-align: right;\n",
       "    }\n",
       "</style>\n",
       "<table border=\"1\" class=\"dataframe\">\n",
       "  <thead>\n",
       "    <tr style=\"text-align: right;\">\n",
       "      <th></th>\n",
       "      <th>SepalLength</th>\n",
       "      <th>SepalWidth</th>\n",
       "      <th>PetalLength</th>\n",
       "      <th>PetalWidth</th>\n",
       "      <th>Species</th>\n",
       "    </tr>\n",
       "  </thead>\n",
       "  <tbody>\n",
       "    <tr>\n",
       "      <th>0</th>\n",
       "      <td>6.4</td>\n",
       "      <td>2.8</td>\n",
       "      <td>5.6</td>\n",
       "      <td>2.2</td>\n",
       "      <td>2</td>\n",
       "    </tr>\n",
       "    <tr>\n",
       "      <th>1</th>\n",
       "      <td>5.0</td>\n",
       "      <td>2.3</td>\n",
       "      <td>3.3</td>\n",
       "      <td>1.0</td>\n",
       "      <td>1</td>\n",
       "    </tr>\n",
       "    <tr>\n",
       "      <th>2</th>\n",
       "      <td>4.9</td>\n",
       "      <td>2.5</td>\n",
       "      <td>4.5</td>\n",
       "      <td>1.7</td>\n",
       "      <td>2</td>\n",
       "    </tr>\n",
       "    <tr>\n",
       "      <th>3</th>\n",
       "      <td>4.9</td>\n",
       "      <td>3.1</td>\n",
       "      <td>1.5</td>\n",
       "      <td>0.1</td>\n",
       "      <td>0</td>\n",
       "    </tr>\n",
       "    <tr>\n",
       "      <th>4</th>\n",
       "      <td>5.7</td>\n",
       "      <td>3.8</td>\n",
       "      <td>1.7</td>\n",
       "      <td>0.3</td>\n",
       "      <td>0</td>\n",
       "    </tr>\n",
       "    <tr>\n",
       "      <th>...</th>\n",
       "      <td>...</td>\n",
       "      <td>...</td>\n",
       "      <td>...</td>\n",
       "      <td>...</td>\n",
       "      <td>...</td>\n",
       "    </tr>\n",
       "    <tr>\n",
       "      <th>115</th>\n",
       "      <td>5.5</td>\n",
       "      <td>2.6</td>\n",
       "      <td>4.4</td>\n",
       "      <td>1.2</td>\n",
       "      <td>1</td>\n",
       "    </tr>\n",
       "    <tr>\n",
       "      <th>116</th>\n",
       "      <td>5.7</td>\n",
       "      <td>3.0</td>\n",
       "      <td>4.2</td>\n",
       "      <td>1.2</td>\n",
       "      <td>1</td>\n",
       "    </tr>\n",
       "    <tr>\n",
       "      <th>117</th>\n",
       "      <td>4.4</td>\n",
       "      <td>2.9</td>\n",
       "      <td>1.4</td>\n",
       "      <td>0.2</td>\n",
       "      <td>0</td>\n",
       "    </tr>\n",
       "    <tr>\n",
       "      <th>118</th>\n",
       "      <td>4.8</td>\n",
       "      <td>3.0</td>\n",
       "      <td>1.4</td>\n",
       "      <td>0.1</td>\n",
       "      <td>0</td>\n",
       "    </tr>\n",
       "    <tr>\n",
       "      <th>119</th>\n",
       "      <td>5.5</td>\n",
       "      <td>2.4</td>\n",
       "      <td>3.7</td>\n",
       "      <td>1.0</td>\n",
       "      <td>1</td>\n",
       "    </tr>\n",
       "  </tbody>\n",
       "</table>\n",
       "<p>120 rows × 5 columns</p>\n",
       "</div>"
      ],
      "text/plain": [
       "     SepalLength  SepalWidth  PetalLength  PetalWidth  Species\n",
       "0            6.4         2.8          5.6         2.2        2\n",
       "1            5.0         2.3          3.3         1.0        1\n",
       "2            4.9         2.5          4.5         1.7        2\n",
       "3            4.9         3.1          1.5         0.1        0\n",
       "4            5.7         3.8          1.7         0.3        0\n",
       "..           ...         ...          ...         ...      ...\n",
       "115          5.5         2.6          4.4         1.2        1\n",
       "116          5.7         3.0          4.2         1.2        1\n",
       "117          4.4         2.9          1.4         0.2        0\n",
       "118          4.8         3.0          1.4         0.1        0\n",
       "119          5.5         2.4          3.7         1.0        1\n",
       "\n",
       "[120 rows x 5 columns]"
      ]
     },
     "execution_count": 5,
     "metadata": {},
     "output_type": "execute_result"
    }
   ],
   "source": [
    "train"
   ]
  },
  {
   "cell_type": "code",
   "execution_count": 6,
   "id": "3849c08d",
   "metadata": {},
   "outputs": [],
   "source": [
    "train_y = train.pop('Species')\n",
    "test_y = test.pop('Species')"
   ]
  },
  {
   "cell_type": "code",
   "execution_count": 10,
   "id": "5a671c09",
   "metadata": {},
   "outputs": [
    {
     "data": {
      "text/plain": [
       "[NumericColumn(key='SepalLength', shape=(1,), default_value=None, dtype=tf.float32, normalizer_fn=None),\n",
       " NumericColumn(key='SepalWidth', shape=(1,), default_value=None, dtype=tf.float32, normalizer_fn=None),\n",
       " NumericColumn(key='PetalLength', shape=(1,), default_value=None, dtype=tf.float32, normalizer_fn=None),\n",
       " NumericColumn(key='PetalWidth', shape=(1,), default_value=None, dtype=tf.float32, normalizer_fn=None)]"
      ]
     },
     "execution_count": 10,
     "metadata": {},
     "output_type": "execute_result"
    }
   ],
   "source": [
    "feature = []  # 特征列\n",
    "for col in train.columns:\n",
    "    feature.append(tf.feature_column.numeric_column(col))\n",
    "feature"
   ]
  },
  {
   "cell_type": "code",
   "execution_count": 18,
   "id": "1f731ccc",
   "metadata": {},
   "outputs": [],
   "source": [
    "def input_fn(x, y=None, training=True, batch_size=256):\n",
    "    ds = tf.data.Dataset.from_tensor_slices((dict(x), y))\n",
    "    if training:\n",
    "        ds = ds.shuffle(1000).repeat()  # 用steps控制终止\n",
    "    return ds.batch(batch_size)"
   ]
  },
  {
   "cell_type": "code",
   "execution_count": 23,
   "id": "89b4235b",
   "metadata": {},
   "outputs": [],
   "source": [
    "classifier = tf.estimator.DNNClassifier([64, 32], feature, n_classes=3)\n",
    "clear_output()"
   ]
  },
  {
   "cell_type": "code",
   "execution_count": 24,
   "id": "b06f1a67",
   "metadata": {
    "scrolled": true
   },
   "outputs": [
    {
     "name": "stdout",
     "output_type": "stream",
     "text": [
      "INFO:tensorflow:Calling model_fn.\n",
      "INFO:tensorflow:Done calling model_fn.\n",
      "INFO:tensorflow:Create CheckpointSaverHook.\n",
      "INFO:tensorflow:Graph was finalized.\n",
      "INFO:tensorflow:Running local_init_op.\n",
      "INFO:tensorflow:Done running local_init_op.\n",
      "INFO:tensorflow:Calling checkpoint listeners before saving checkpoint 0...\n",
      "INFO:tensorflow:Saving checkpoints for 0 into C:\\Users\\yy\\AppData\\Local\\Temp\\tmp09muw3er\\model.ckpt.\n",
      "INFO:tensorflow:Calling checkpoint listeners after saving checkpoint 0...\n",
      "INFO:tensorflow:loss = 1.1503642, step = 0\n",
      "INFO:tensorflow:global_step/sec: 280.602\n",
      "INFO:tensorflow:loss = 0.90847456, step = 100 (0.357 sec)\n",
      "INFO:tensorflow:global_step/sec: 437.701\n",
      "INFO:tensorflow:loss = 0.8047812, step = 200 (0.228 sec)\n",
      "INFO:tensorflow:global_step/sec: 436.197\n",
      "INFO:tensorflow:loss = 0.74282455, step = 300 (0.229 sec)\n",
      "INFO:tensorflow:global_step/sec: 431.409\n",
      "INFO:tensorflow:loss = 0.69320524, step = 400 (0.232 sec)\n",
      "INFO:tensorflow:global_step/sec: 434.77\n",
      "INFO:tensorflow:loss = 0.6603484, step = 500 (0.230 sec)\n",
      "INFO:tensorflow:global_step/sec: 433.014\n",
      "INFO:tensorflow:loss = 0.6285863, step = 600 (0.231 sec)\n",
      "INFO:tensorflow:global_step/sec: 431.822\n",
      "INFO:tensorflow:loss = 0.5873272, step = 700 (0.231 sec)\n",
      "INFO:tensorflow:global_step/sec: 432.916\n",
      "INFO:tensorflow:loss = 0.567486, step = 800 (0.231 sec)\n",
      "INFO:tensorflow:global_step/sec: 438.713\n",
      "INFO:tensorflow:loss = 0.54205835, step = 900 (0.229 sec)\n",
      "INFO:tensorflow:global_step/sec: 418.41\n",
      "INFO:tensorflow:loss = 0.52697563, step = 1000 (0.238 sec)\n",
      "INFO:tensorflow:global_step/sec: 429.178\n",
      "INFO:tensorflow:loss = 0.5141735, step = 1100 (0.233 sec)\n",
      "INFO:tensorflow:global_step/sec: 419.737\n",
      "INFO:tensorflow:loss = 0.4919796, step = 1200 (0.238 sec)\n",
      "INFO:tensorflow:global_step/sec: 422.804\n",
      "INFO:tensorflow:loss = 0.48361325, step = 1300 (0.237 sec)\n",
      "INFO:tensorflow:global_step/sec: 428.284\n",
      "INFO:tensorflow:loss = 0.45448184, step = 1400 (0.234 sec)\n",
      "INFO:tensorflow:global_step/sec: 398.822\n",
      "INFO:tensorflow:loss = 0.45260048, step = 1500 (0.251 sec)\n",
      "INFO:tensorflow:global_step/sec: 393.646\n",
      "INFO:tensorflow:loss = 0.44719523, step = 1600 (0.254 sec)\n",
      "INFO:tensorflow:global_step/sec: 418.185\n",
      "INFO:tensorflow:loss = 0.4311994, step = 1700 (0.240 sec)\n",
      "INFO:tensorflow:global_step/sec: 404.858\n",
      "INFO:tensorflow:loss = 0.41685465, step = 1800 (0.246 sec)\n",
      "INFO:tensorflow:global_step/sec: 400\n",
      "INFO:tensorflow:loss = 0.40797278, step = 1900 (0.250 sec)\n",
      "INFO:tensorflow:global_step/sec: 416.361\n",
      "INFO:tensorflow:loss = 0.3932374, step = 2000 (0.240 sec)\n",
      "INFO:tensorflow:global_step/sec: 421.049\n",
      "INFO:tensorflow:loss = 0.39192986, step = 2100 (0.238 sec)\n",
      "INFO:tensorflow:global_step/sec: 416.667\n",
      "INFO:tensorflow:loss = 0.3707884, step = 2200 (0.240 sec)\n",
      "INFO:tensorflow:global_step/sec: 426.292\n",
      "INFO:tensorflow:loss = 0.38408828, step = 2300 (0.235 sec)\n",
      "INFO:tensorflow:global_step/sec: 404.859\n",
      "INFO:tensorflow:loss = 0.3697912, step = 2400 (0.247 sec)\n",
      "INFO:tensorflow:global_step/sec: 416.686\n",
      "INFO:tensorflow:loss = 0.35980615, step = 2500 (0.240 sec)\n",
      "INFO:tensorflow:global_step/sec: 417.296\n",
      "INFO:tensorflow:loss = 0.35225618, step = 2600 (0.240 sec)\n",
      "INFO:tensorflow:global_step/sec: 402.972\n",
      "INFO:tensorflow:loss = 0.34799904, step = 2700 (0.248 sec)\n",
      "INFO:tensorflow:global_step/sec: 391.949\n",
      "INFO:tensorflow:loss = 0.33717227, step = 2800 (0.256 sec)\n",
      "INFO:tensorflow:global_step/sec: 400.217\n",
      "INFO:tensorflow:loss = 0.33798027, step = 2900 (0.250 sec)\n",
      "INFO:tensorflow:global_step/sec: 384.616\n",
      "INFO:tensorflow:loss = 0.3272828, step = 3000 (0.260 sec)\n",
      "INFO:tensorflow:global_step/sec: 397.213\n",
      "INFO:tensorflow:loss = 0.31798208, step = 3100 (0.252 sec)\n",
      "INFO:tensorflow:global_step/sec: 374.202\n",
      "INFO:tensorflow:loss = 0.30875307, step = 3200 (0.266 sec)\n",
      "INFO:tensorflow:global_step/sec: 393.18\n",
      "INFO:tensorflow:loss = 0.3126664, step = 3300 (0.255 sec)\n",
      "INFO:tensorflow:global_step/sec: 399.795\n",
      "INFO:tensorflow:loss = 0.31120056, step = 3400 (0.250 sec)\n",
      "INFO:tensorflow:global_step/sec: 401.028\n",
      "INFO:tensorflow:loss = 0.29773694, step = 3500 (0.249 sec)\n",
      "INFO:tensorflow:global_step/sec: 382.594\n",
      "INFO:tensorflow:loss = 0.2876274, step = 3600 (0.261 sec)\n",
      "INFO:tensorflow:global_step/sec: 393.099\n",
      "INFO:tensorflow:loss = 0.28262278, step = 3700 (0.254 sec)\n",
      "INFO:tensorflow:global_step/sec: 398.406\n",
      "INFO:tensorflow:loss = 0.27481914, step = 3800 (0.251 sec)\n",
      "INFO:tensorflow:global_step/sec: 392.157\n",
      "INFO:tensorflow:loss = 0.2766149, step = 3900 (0.254 sec)\n",
      "INFO:tensorflow:global_step/sec: 392.126\n",
      "INFO:tensorflow:loss = 0.2763641, step = 4000 (0.256 sec)\n",
      "INFO:tensorflow:global_step/sec: 355.851\n",
      "INFO:tensorflow:loss = 0.25981, step = 4100 (0.280 sec)\n",
      "INFO:tensorflow:global_step/sec: 346.863\n",
      "INFO:tensorflow:loss = 0.25562873, step = 4200 (0.289 sec)\n",
      "INFO:tensorflow:global_step/sec: 358.154\n",
      "INFO:tensorflow:loss = 0.24856487, step = 4300 (0.278 sec)\n",
      "INFO:tensorflow:global_step/sec: 360.703\n",
      "INFO:tensorflow:loss = 0.25454697, step = 4400 (0.277 sec)\n",
      "INFO:tensorflow:global_step/sec: 383.79\n",
      "INFO:tensorflow:loss = 0.24572504, step = 4500 (0.260 sec)\n",
      "INFO:tensorflow:global_step/sec: 381.679\n",
      "INFO:tensorflow:loss = 0.24950323, step = 4600 (0.263 sec)\n",
      "INFO:tensorflow:global_step/sec: 393.701\n",
      "INFO:tensorflow:loss = 0.24420273, step = 4700 (0.253 sec)\n",
      "INFO:tensorflow:global_step/sec: 387.508\n",
      "INFO:tensorflow:loss = 0.23330843, step = 4800 (0.259 sec)\n",
      "INFO:tensorflow:global_step/sec: 396.729\n",
      "INFO:tensorflow:loss = 0.22935343, step = 4900 (0.252 sec)\n",
      "INFO:tensorflow:Calling checkpoint listeners before saving checkpoint 5000...\n",
      "INFO:tensorflow:Saving checkpoints for 5000 into C:\\Users\\yy\\AppData\\Local\\Temp\\tmp09muw3er\\model.ckpt.\n",
      "INFO:tensorflow:Calling checkpoint listeners after saving checkpoint 5000...\n",
      "INFO:tensorflow:Loss for final step: 0.22516835.\n"
     ]
    },
    {
     "data": {
      "text/plain": [
       "<tensorflow_estimator.python.estimator.canned.dnn.DNNClassifierV2 at 0x16d6a722250>"
      ]
     },
     "execution_count": 24,
     "metadata": {},
     "output_type": "execute_result"
    }
   ],
   "source": [
    "classifier.train(lambda: input_fn(train, train_y), steps=5000)"
   ]
  },
  {
   "cell_type": "code",
   "execution_count": 27,
   "id": "f3669116",
   "metadata": {},
   "outputs": [
    {
     "name": "stdout",
     "output_type": "stream",
     "text": [
      "INFO:tensorflow:Calling model_fn.\n",
      "INFO:tensorflow:Done calling model_fn.\n",
      "INFO:tensorflow:Starting evaluation at 2022-07-06T16:14:14\n",
      "INFO:tensorflow:Graph was finalized.\n",
      "INFO:tensorflow:Restoring parameters from C:\\Users\\yy\\AppData\\Local\\Temp\\tmp09muw3er\\model.ckpt-5000\n",
      "INFO:tensorflow:Running local_init_op.\n",
      "INFO:tensorflow:Done running local_init_op.\n",
      "INFO:tensorflow:Inference Time : 0.25187s\n",
      "INFO:tensorflow:Finished evaluation at 2022-07-06-16:14:14\n",
      "INFO:tensorflow:Saving dict for global step 5000: accuracy = 0.96666664, average_loss = 0.25931346, global_step = 5000, loss = 0.25931346\n",
      "INFO:tensorflow:Saving 'checkpoint_path' summary for global step 5000: C:\\Users\\yy\\AppData\\Local\\Temp\\tmp09muw3er\\model.ckpt-5000\n"
     ]
    },
    {
     "data": {
      "text/plain": [
       "{'accuracy': 0.96666664,\n",
       " 'average_loss': 0.25931346,\n",
       " 'loss': 0.25931346,\n",
       " 'global_step': 5000}"
      ]
     },
     "execution_count": 27,
     "metadata": {},
     "output_type": "execute_result"
    }
   ],
   "source": [
    "classifier.evaluate(lambda: input_fn(test, test_y, training=False))"
   ]
  },
  {
   "cell_type": "code",
   "execution_count": 32,
   "id": "5e01a6f9",
   "metadata": {},
   "outputs": [
    {
     "data": {
      "text/plain": [
       "{'logits': array([ 5.2090673,  2.749156 , -0.8937769], dtype=float32),\n",
       " 'probabilities': array([0.9193889 , 0.07855491, 0.00205621], dtype=float32),\n",
       " 'class_ids': array([0], dtype=int64),\n",
       " 'classes': array([b'0'], dtype=object),\n",
       " 'all_class_ids': array([0, 1, 2]),\n",
       " 'all_classes': array([b'0', b'1', b'2'], dtype=object)}"
      ]
     },
     "execution_count": 32,
     "metadata": {},
     "output_type": "execute_result"
    }
   ],
   "source": [
    "# 自定义例子输入\n",
    "expected = ['Setosa', 'Versicolor', 'Virginica']\n",
    "predict_x = {\n",
    "    'SepalLength': [5.1, 5.9, 6.9],\n",
    "    'SepalWidth': [3.3, 3.0, 3.1],\n",
    "    'PetalLength': [1.7, 4.2, 5.4],\n",
    "    'PetalWidth': [0.5, 1.5, 2.1],\n",
    "}\n",
    "result = list(classifier.predict(lambda: input_fn(predict_x, training=False)))\n",
    "clear_output()\n",
    "result[0]"
   ]
  },
  {
   "cell_type": "code",
   "execution_count": 34,
   "id": "000e9136",
   "metadata": {},
   "outputs": [
    {
     "name": "stdout",
     "output_type": "stream",
     "text": [
      "预测为 \"Setosa\" (0.92%)\n",
      "预测为 \"Versicolor\" (0.71%)\n",
      "预测为 \"Virginica\" (0.72%)\n"
     ]
    }
   ],
   "source": [
    "def print_def(dic):  # 自定义预测显示函数\n",
    "    class_id = dic['class_ids'][0]\n",
    "    probability = dic['probabilities'][class_id]\n",
    "    print('预测为 \"{}\" ({:.2f}%)'.format(labels[class_id], probability))\n",
    "for dic in result:\n",
    "    print_def(dic)  # 与expected完全符合"
   ]
  }
 ],
 "metadata": {
  "kernelspec": {
   "display_name": "Python 3 (ipykernel)",
   "language": "python",
   "name": "python3"
  },
  "language_info": {
   "codemirror_mode": {
    "name": "ipython",
    "version": 3
   },
   "file_extension": ".py",
   "mimetype": "text/x-python",
   "name": "python",
   "nbconvert_exporter": "python",
   "pygments_lexer": "ipython3",
   "version": "3.9.7"
  }
 },
 "nbformat": 4,
 "nbformat_minor": 5
}
