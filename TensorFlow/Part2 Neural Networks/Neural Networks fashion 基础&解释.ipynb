{
 "cells": [
  {
   "cell_type": "code",
   "execution_count": 1,
   "id": "52a23eaa",
   "metadata": {},
   "outputs": [],
   "source": [
    "import tensorflow as tf\n",
    "from tensorflow import keras\n",
    "import numpy as np\n",
    "import matplotlib.pyplot as plt\n",
    "plt.rcParams['font.size'] = 15  # 固定字体大小\n",
    "plt.rcParams['font.sans-serif']=['SimSun'] # 用来正常显示中文标签，使用宋体\n",
    "plt.rcParams['axes.unicode_minus']=False # 用来正常显示负号"
   ]
  },
  {
   "cell_type": "markdown",
   "id": "eb1b0ad2",
   "metadata": {},
   "source": [
    "## 创建一个神经网络\n",
    "\n",
    "### Dataset\n",
    "数据集使用的是 MNIST Fashion Dataset（MNIST时装数据集），这个数据集包含在 keras 中."
   ]
  },
  {
   "cell_type": "code",
   "execution_count": 2,
   "id": "95677da7",
   "metadata": {},
   "outputs": [],
   "source": [
    "fashion_mnist = keras.datasets.fashion_mnist  # 载入\n",
    "(train, train_y), (test, test_y) = fashion_mnist.load_data()  # 分解为训练数据和测试数据"
   ]
  },
  {
   "cell_type": "markdown",
   "id": "073afbf1",
   "metadata": {},
   "source": [
    "这个数据集中包含 $60000$ 个训练样本，$10000$ 个测试样本，每一个样本都是有 $28\\times 28$ 像素的图片构成的，所以总共有 $784$ 个像素. 每一个像素的数据范围为 $0\\sim255$（即 `uint8` 数据类型，解释为unsigned integer $2^8$，无符号整型数据范围为：$0\\sim2^8$），表示该图片的灰度值（$0$ 表示黑色，$255$ 表示白色）."
   ]
  },
  {
   "cell_type": "code",
   "execution_count": 3,
   "id": "08aa77e2",
   "metadata": {},
   "outputs": [
    {
     "name": "stdout",
     "output_type": "stream",
     "text": [
      "(60000, 28, 28)\n",
      "(10000, 28, 28)\n",
      "像素范围：0 ~ 255\n"
     ]
    }
   ],
   "source": [
    "print(train.shape)\n",
    "print(test.shape)\n",
    "print('像素范围：{} ~ {}'.format(np.min(train), np.max(train)))"
   ]
  },
  {
   "cell_type": "markdown",
   "id": "9eb4fde2",
   "metadata": {},
   "source": [
    "样本的label是由 $0\\sim 9$ 整数构成，分别表示 $10$ 中不同类型的衣服."
   ]
  },
  {
   "cell_type": "code",
   "execution_count": 4,
   "id": "d467f243",
   "metadata": {},
   "outputs": [
    {
     "name": "stdout",
     "output_type": "stream",
     "text": [
      "label范围：0 ~ 9\n"
     ]
    }
   ],
   "source": [
    "# 查看样本的label\n",
    "print('label范围：{} ~ {}'.format(np.min(train_y), np.max(train_y)))\n",
    "#classes = ['T-shirt/top', 'Trouser', 'Pullover', 'Dress', 'Coat',\n",
    "#            'Sandal', 'Shirt', 'Sneaker', 'Bag', 'Ankle boot']\n",
    "classes = ['T恤/上衣', '裤子', '套头衫', '连衣裙', '大衣',\n",
    "           '凉鞋', '衬衫', '运动鞋', '手袋', '踝靴']  # 10中衣服的类型"
   ]
  },
  {
   "cell_type": "markdown",
   "id": "0452673c",
   "metadata": {},
   "source": [
    "可以用 matplotlib 显示具体图像"
   ]
  },
  {
   "cell_type": "code",
   "execution_count": 5,
   "id": "7c2ecd21",
   "metadata": {},
   "outputs": [
    {
     "name": "stdout",
     "output_type": "stream",
     "text": [
      "凉鞋\n"
     ]
    },
    {
     "data": {
      "image/png": "[encoded data removed]",
      "text/plain": [
       "<Figure size 432x288 with 2 Axes>"
      ]
     },
     "metadata": {
      "needs_background": "light"
     },
     "output_type": "display_data"
    }
   ],
   "source": [
    "n = 30\n",
    "print(classes[train_y[n]])\n",
    "plt.imshow(train[n])\n",
    "plt.colorbar()\n",
    "plt.show()"
   ]
  },
  {
   "cell_type": "markdown",
   "id": "da63d1cd",
   "metadata": {},
   "source": [
    "### 数据处理\n",
    "将输入的特征转化为 $[0, 1]$ 之间的小数，因为神经网络随机的初始参数，weight和bias，都是在 $[0,1]$ 之间的，这样训练效率更高."
   ]
  },
  {
   "cell_type": "code",
   "execution_count": 6,
   "id": "5ebb7767",
   "metadata": {},
   "outputs": [],
   "source": [
    "train = train / 255\n",
    "test = test / 255"
   ]
  },
  {
   "cell_type": "markdown",
   "id": "1ba3638e",
   "metadata": {},
   "source": [
    "### 创建模型"
   ]
  },
  {
   "cell_type": "code",
   "execution_count": 7,
   "id": "e645d229",
   "metadata": {},
   "outputs": [],
   "source": [
    "model = keras.Sequential([\n",
    "    keras.layers.Flatten(input_shape=(28, 28)),   # input layer\n",
    "    keras.layers.Dense(128, activation='relu'),    # hidden layer\n",
    "    keras.layers.Dense(10, activation='softmax')  # output layer\n",
    "])"
   ]
  },
  {
   "cell_type": "markdown",
   "id": "1d0cb175",
   "metadata": {},
   "source": [
    "### 编译模型（配置超参数）\n",
    "设置 `optimizer, loss, metrics`（**优化器，损失函数，判断模型好坏的指标**)，这些统称为 hyper parameters（超参数）"
   ]
  },
  {
   "cell_type": "code",
   "execution_count": 8,
   "id": "f35e3447",
   "metadata": {},
   "outputs": [],
   "source": [
    "model.compile(optimizer='adam',\n",
    "             loss='sparse_categorical_crossentropy',  # 交叉熵\n",
    "             metrics=['accuracy'])  # 准确率作为判断指标"
   ]
  },
  {
   "cell_type": "markdown",
   "id": "a3cc3056",
   "metadata": {},
   "source": [
    "## 训练&评估模型"
   ]
  },
  {
   "cell_type": "code",
   "execution_count": 9,
   "id": "6ac21587",
   "metadata": {},
   "outputs": [
    {
     "name": "stdout",
     "output_type": "stream",
     "text": [
      "Epoch 1/10\n",
      "1875/1875 [==============================] - 3s 1ms/step - loss: 0.4898 - accuracy: 0.8280\n",
      "Epoch 2/10\n",
      "1875/1875 [==============================] - 2s 1ms/step - loss: 0.3694 - accuracy: 0.8661\n",
      "Epoch 3/10\n",
      "1875/1875 [==============================] - 2s 1ms/step - loss: 0.3338 - accuracy: 0.8776\n",
      "Epoch 4/10\n",
      "1875/1875 [==============================] - 2s 1ms/step - loss: 0.3106 - accuracy: 0.8855\n",
      "Epoch 5/10\n",
      "1875/1875 [==============================] - 2s 1ms/step - loss: 0.2910 - accuracy: 0.8921\n",
      "Epoch 6/10\n",
      "1875/1875 [==============================] - 2s 1ms/step - loss: 0.2786 - accuracy: 0.8953\n",
      "Epoch 7/10\n",
      "1875/1875 [==============================] - 2s 1ms/step - loss: 0.2654 - accuracy: 0.9020\n",
      "Epoch 8/10\n",
      "1875/1875 [==============================] - 2s 1ms/step - loss: 0.2526 - accuracy: 0.9063\n",
      "Epoch 9/10\n",
      "1875/1875 [==============================] - 2s 1ms/step - loss: 0.2441 - accuracy: 0.9086\n",
      "Epoch 10/10\n",
      "1875/1875 [==============================] - 2s 1ms/step - loss: 0.2340 - accuracy: 0.9114\n"
     ]
    },
    {
     "data": {
      "text/plain": [
       "<keras.callbacks.History at 0x1d507603be0>"
      ]
     },
     "execution_count": 9,
     "metadata": {},
     "output_type": "execute_result"
    }
   ],
   "source": [
    "model.fit(train, train_y, epochs=10)"
   ]
  },
  {
   "cell_type": "markdown",
   "id": "703e7e3e",
   "metadata": {},
   "source": [
    "`loss, metrics = model.evaluate(x, y)` 返回根据测试数据计算出的 `loss value & metrics values`（损失值和模型评判指标）"
   ]
  },
  {
   "cell_type": "code",
   "execution_count": 10,
   "id": "21b1c850",
   "metadata": {
    "scrolled": true
   },
   "outputs": [
    {
     "name": "stdout",
     "output_type": "stream",
     "text": [
      "313/313 [==============================] - 0s 766us/step - loss: 0.3323 - accuracy: 0.8849\n"
     ]
    }
   ],
   "source": [
    "loss, acc = model.evaluate(test, test_y)"
   ]
  },
  {
   "cell_type": "markdown",
   "id": "fae00753",
   "metadata": {},
   "source": [
    "### 预测结果\n",
    "使用 `model.predict(test)` 可以得到最后一组的全部预测结果，输出结果为小数形式，我们只需找到最大的值对应的下标，即为模型预测的结果，使用 `np.argmax()` 即可得到最大值的下标. "
   ]
  },
  {
   "cell_type": "code",
   "execution_count": 11,
   "id": "61f5701b",
   "metadata": {},
   "outputs": [
    {
     "name": "stdout",
     "output_type": "stream",
     "text": [
      "[[5.0983590e-10 7.3437895e-11 2.0520331e-10 6.6806777e-12 1.3912353e-09\n",
      "  3.1535695e-03 5.4376398e-10 9.1992477e-03 6.2373829e-08 9.8764706e-01]]\n",
      "9\n",
      "预测值：踝靴\n"
     ]
    }
   ],
   "source": [
    "result = model.predict(test)  # 预测全部测试集据\n",
    "print(model.predict(np.array([test[0]])))  # 预测一个测试样本的结果\n",
    "print(np.argmax(result[0]))  # 获得最大值对应下标，即预测的结果\n",
    "print('预测值：' + classes[np.argmax(result[0])])  # 输出对应的label类别"
   ]
  },
  {
   "cell_type": "code",
   "execution_count": 12,
   "id": "52e1eed6",
   "metadata": {
    "scrolled": true
   },
   "outputs": [
    {
     "data": {
      "image/png": "[encoded data removed]",
      "text/plain": [
       "<Figure size 432x288 with 1 Axes>"
      ]
     },
     "metadata": {
      "needs_background": "light"
     },
     "output_type": "display_data"
    }
   ],
   "source": [
    "plt.rcParams['font.size'] = 20  # 固定字体大小\n",
    "def check(n):\n",
    "    predict = classes[np.argmax(model.predict(test)[n])]  # 返回预测值\n",
    "    plt.imshow(test[n], cmap=plt.cm.binary)\n",
    "    plt.title('真实值：' + classes[test_y[n]])\n",
    "    plt.xlabel('预测值：' + predict)\n",
    "    plt.show()\n",
    "check(9)"
   ]
  },
  {
   "cell_type": "code",
   "execution_count": null,
   "id": "8b3b87b7",
   "metadata": {},
   "outputs": [],
   "source": [
    "# 输出前10个错误预测结果\n",
    "cnt = 10\n",
    "result = model.predict(test)\n",
    "for i in range(test.shape[0]):\n",
    "    predict = np.argmax(result[i])\n",
    "    if predict != test_y[i]:\n",
    "        check(i)\n",
    "        cnt -= 1\n",
    "    if cnt == 0:\n",
    "        break"
   ]
  }
 ],
 "metadata": {
  "kernelspec": {
   "display_name": "Python 3 (ipykernel)",
   "language": "python",
   "name": "python3"
  },
  "language_info": {
   "codemirror_mode": {
    "name": "ipython",
    "version": 3
   },
   "file_extension": ".py",
   "mimetype": "text/x-python",
   "name": "python",
   "nbconvert_exporter": "python",
   "pygments_lexer": "ipython3",
   "version": "3.9.13"
  }
 },
 "nbformat": 4,
 "nbformat_minor": 5
}
