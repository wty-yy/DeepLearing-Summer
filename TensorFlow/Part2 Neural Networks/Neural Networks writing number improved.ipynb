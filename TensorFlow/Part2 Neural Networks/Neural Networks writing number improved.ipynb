{
 "cells": [
  {
   "cell_type": "markdown",
   "id": "e5a74d64",
   "metadata": {},
   "source": [
    "在原本代码 `Neural Networks writing number.ipynb` 的基础上加入数据增强（对图像的平移操作）和卷积层，汇聚层. 对于自己绘制的手写数据已经能由很好的识别效果."
   ]
  },
  {
   "cell_type": "code",
   "execution_count": 2,
   "id": "52a23eaa",
   "metadata": {
    "scrolled": false
   },
   "outputs": [],
   "source": [
    "import tensorflow as tf\n",
    "from tensorflow import keras\n",
    "from tensorflow.keras import layers\n",
    "import numpy as np\n",
    "import matplotlib.pyplot as plt\n",
    "plt.rcParams['font.size'] = 20  # 固定字体大小\n",
    "plt.rcParams['font.sans-serif']=['SimSun'] # 用来正常显示中文标签，使用宋体\n",
    "plt.rcParams['axes.unicode_minus']=False # 用来正常显示负号\n",
    "mnist = keras.datasets.mnist  # 载入\n",
    "(train, train_y), (test, test_y) = mnist.load_data()  # 分解为训练数据和测试数据\n",
    "train, test = train / 255, test / 255"
   ]
  },
  {
   "cell_type": "code",
   "execution_count": 12,
   "id": "baa3fffc",
   "metadata": {},
   "outputs": [
    {
     "name": "stdout",
     "output_type": "stream",
     "text": [
      "(2, 24, 24, 3)\n"
     ]
    }
   ],
   "source": [
    "shape = (2, 28, 28, 3)\n",
    "x = np.arange(np.prod(shape)).reshape(shape)\n",
    "y = layers.Cropping2D(cropping=((2, 2)))(x)\n",
    "print(y.shape)"
   ]
  },
  {
   "cell_type": "code",
   "execution_count": 34,
   "id": "d6eaeea5",
   "metadata": {
    "scrolled": true
   },
   "outputs": [
    {
     "data": {
      "image/png": "[encoded data removed]",
      "text/plain": [
       "<Figure size 720x720 with 9 Axes>"
      ]
     },
     "metadata": {
      "needs_background": "light"
     },
     "output_type": "display_data"
    }
   ],
   "source": [
    "# 对数据增强的详细解释请见 Part3 Convolution Neural Networks 目录下 Image classification.ipynb 的数据增强部分\n",
    "augmentation = keras.Sequential([\n",
    "    layers.RandomZoom(0.3, 0.3, input_shape=(28, 28, 1)),  # 压缩图像\n",
    "    layers.RandomTranslation(0.15, 0.15, fill_mode='constant', input_shape=(28, 28, 1))  # 平移图像\n",
    "])\n",
    "idx = 10\n",
    "plt.figure(figsize=(10, 10))\n",
    "plt.subplot(3, 3, 1)\n",
    "plt.imshow(test[idx])\n",
    "plt.axis('off')\n",
    "for i in range(8):\n",
    "    plt.subplot(3, 3, i + 2)\n",
    "    tmp = augmentation(np.array([test[idx]]))\n",
    "    plt.imshow(tmp[0])\n",
    "    plt.axis('off')\n",
    "    plt.title(str(tmp[0].shape))\n",
    "plt.show()"
   ]
  },
  {
   "cell_type": "code",
   "execution_count": 32,
   "id": "61e6bef6",
   "metadata": {},
   "outputs": [
    {
     "name": "stdout",
     "output_type": "stream",
     "text": [
      "Model: \"sequential_18\"\n",
      "_________________________________________________________________\n",
      "Layer (type)                 Output Shape              Param #   \n",
      "=================================================================\n",
      "sequential_16 (Sequential)   (None, 28, 28, 1)         0         \n",
      "_________________________________________________________________\n",
      "conv2d_6 (Conv2D)            (None, 26, 26, 64)        640       \n",
      "_________________________________________________________________\n",
      "max_pooling2d_6 (MaxPooling2 (None, 13, 13, 64)        0         \n",
      "_________________________________________________________________\n",
      "flatten_6 (Flatten)          (None, 10816)             0         \n",
      "_________________________________________________________________\n",
      "dense_12 (Dense)             (None, 128)               1384576   \n",
      "_________________________________________________________________\n",
      "dense_13 (Dense)             (None, 10)                1290      \n",
      "=================================================================\n",
      "Total params: 1,386,506\n",
      "Trainable params: 1,386,506\n",
      "Non-trainable params: 0\n",
      "_________________________________________________________________\n"
     ]
    }
   ],
   "source": [
    "model = keras.Sequential([\n",
    "    augmentation,  # augmentation\n",
    "    layers.Conv2D(64, (3, 3), activation='relu'),  # converlution\n",
    "    layers.MaxPool2D(),  # Pooling\n",
    "    layers.Flatten(),   # input layer\n",
    "    layers.Dense(128, activation='relu'),    # hidden layer\n",
    "    layers.Dense(10, activation='softmax')  # output layer\n",
    "])\n",
    "model.summary()"
   ]
  },
  {
   "cell_type": "code",
   "execution_count": 33,
   "id": "d0cb9b9f",
   "metadata": {},
   "outputs": [
    {
     "name": "stdout",
     "output_type": "stream",
     "text": [
      "Epoch 1/10\n",
      "1875/1875 [==============================] - 9s 4ms/step - loss: 0.3792 - accuracy: 0.8802 - val_loss: 0.1524 - val_accuracy: 0.9500\n",
      "Epoch 2/10\n",
      "1875/1875 [==============================] - 8s 4ms/step - loss: 0.1538 - accuracy: 0.9527 - val_loss: 0.1267 - val_accuracy: 0.9585\n",
      "Epoch 3/10\n",
      "1875/1875 [==============================] - 8s 4ms/step - loss: 0.1206 - accuracy: 0.9630 - val_loss: 0.0820 - val_accuracy: 0.9753\n",
      "Epoch 4/10\n",
      "1875/1875 [==============================] - 8s 4ms/step - loss: 0.1011 - accuracy: 0.9686 - val_loss: 0.0626 - val_accuracy: 0.9795\n",
      "Epoch 5/10\n",
      "1875/1875 [==============================] - 8s 4ms/step - loss: 0.0887 - accuracy: 0.9721 - val_loss: 0.0718 - val_accuracy: 0.9793\n",
      "Epoch 6/10\n",
      "1875/1875 [==============================] - 8s 4ms/step - loss: 0.0808 - accuracy: 0.9746 - val_loss: 0.0516 - val_accuracy: 0.9833\n",
      "Epoch 7/10\n",
      "1875/1875 [==============================] - 8s 4ms/step - loss: 0.0744 - accuracy: 0.9772 - val_loss: 0.0598 - val_accuracy: 0.9809\n",
      "Epoch 8/10\n",
      "1875/1875 [==============================] - 8s 4ms/step - loss: 0.0683 - accuracy: 0.9788 - val_loss: 0.0449 - val_accuracy: 0.9866\n",
      "Epoch 9/10\n",
      "1875/1875 [==============================] - 8s 4ms/step - loss: 0.0637 - accuracy: 0.9801 - val_loss: 0.0657 - val_accuracy: 0.9806\n",
      "Epoch 10/10\n",
      "1875/1875 [==============================] - 8s 4ms/step - loss: 0.0638 - accuracy: 0.9808 - val_loss: 0.0502 - val_accuracy: 0.9825\n"
     ]
    },
    {
     "data": {
      "text/plain": [
       "<keras.callbacks.History at 0x275f922d790>"
      ]
     },
     "execution_count": 33,
     "metadata": {},
     "output_type": "execute_result"
    }
   ],
   "source": [
    "model.compile(optimizer='adam',\n",
    "             loss='sparse_categorical_crossentropy',  # 交叉熵\n",
    "             metrics=['accuracy'])  # 准确率作为判断指标\n",
    "model.fit(train, train_y, epochs=10, validation_data=(test, test_y))"
   ]
  },
  {
   "cell_type": "code",
   "execution_count": 5,
   "id": "52e1eed6",
   "metadata": {
    "scrolled": true
   },
   "outputs": [
    {
     "data": {
      "image/png": "[encoded data removed]",
      "text/plain": [
       "<Figure size 432x288 with 1 Axes>"
      ]
     },
     "metadata": {
      "needs_background": "light"
     },
     "output_type": "display_data"
    }
   ],
   "source": [
    "plt.rcParams['font.size'] = 20  # 固定字体大小\n",
    "def check(n):\n",
    "    predict = np.argmax(model.predict(test)[n])  # 返回预测值\n",
    "    plt.imshow(test[n], cmap=plt.cm.binary)\n",
    "    plt.title('真实值：' + str(test_y[n]))\n",
    "    plt.xlabel('预测值：' + str(predict))\n",
    "    plt.show()\n",
    "check(9)"
   ]
  },
  {
   "cell_type": "code",
   "execution_count": null,
   "id": "8b3b87b7",
   "metadata": {
    "scrolled": false
   },
   "outputs": [],
   "source": [
    "# 输出前10个错误预测结果\n",
    "cnt = 10\n",
    "result = model.predict(test)\n",
    "for i in range(test.shape[0]):\n",
    "    predict = np.argmax(result[i])\n",
    "    if predict != test_y[i]:\n",
    "        check(i)\n",
    "        cnt -= 1\n",
    "    if cnt == 0:\n",
    "        break"
   ]
  },
  {
   "cell_type": "markdown",
   "id": "895977d7",
   "metadata": {},
   "source": [
    "### 自定义测试样本\n",
    "可以通过画图工具修改目录下的 `test.png` 文件，用于自定义预测数据，看看能否识别自己写的数字！"
   ]
  },
  {
   "cell_type": "code",
   "execution_count": 7,
   "id": "1beba4a0",
   "metadata": {
    "scrolled": true
   },
   "outputs": [
    {
     "name": "stdout",
     "output_type": "stream",
     "text": [
      "[2.2116816e-02 2.0064504e-05 2.9585024e-05 1.8970321e-04 1.2702744e-03\n",
      " 5.2031112e+00 9.4374352e+01 2.1363432e-02 3.7583673e-01 1.7164404e-03]\n"
     ]
    },
    {
     "data": {
      "image/png": "[encoded data removed]",
      "text/plain": [
       "<Figure size 432x288 with 1 Axes>"
      ]
     },
     "metadata": {
      "needs_background": "light"
     },
     "output_type": "display_data"
    }
   ],
   "source": [
    "from PIL import Image  # 用于转换图像\n",
    "def my_test():\n",
    "    image = Image.open('test.png')\n",
    "    image = image.convert('L')\n",
    "    mytest = np.array(image)\n",
    "    mytest = (255 - mytest) / 255\n",
    "    mytest = mytest.reshape(1, 28, 28, 1)\n",
    "    predict = model.predict(mytest)[0]\n",
    "    score = predict / np.sum(predict) * 100\n",
    "    print(score)\n",
    "    plt.imshow(mytest[0])\n",
    "    plt.xlabel('预测值：{}，置信度：{:.2f}%'.format(np.argmax(predict), np.max(score)))\n",
    "    plt.show()\n",
    "\n",
    "my_test()"
   ]
  }
 ],
 "metadata": {
  "kernelspec": {
   "display_name": "Python 3 (ipykernel)",
   "language": "python",
   "name": "python3"
  },
  "language_info": {
   "codemirror_mode": {
    "name": "ipython",
    "version": 3
   },
   "file_extension": ".py",
   "mimetype": "text/x-python",
   "name": "python",
   "nbconvert_exporter": "python",
   "pygments_lexer": "ipython3",
   "version": "3.9.13"
  }
 },
 "nbformat": 4,
 "nbformat_minor": 5
}
