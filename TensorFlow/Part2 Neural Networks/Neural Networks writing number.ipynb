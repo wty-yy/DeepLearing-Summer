{
 "cells": [
  {
   "cell_type": "code",
   "execution_count": 1,
   "id": "52a23eaa",
   "metadata": {},
   "outputs": [],
   "source": [
    "import tensorflow as tf\n",
    "from tensorflow import keras\n",
    "import numpy as np\n",
    "import matplotlib.pyplot as plt\n",
    "plt.rcParams['font.size'] = 20  # 固定字体大小\n",
    "plt.rcParams['font.sans-serif']=['SimSun'] # 用来正常显示中文标签，使用宋体\n",
    "plt.rcParams['axes.unicode_minus']=False # 用来正常显示负号"
   ]
  },
  {
   "cell_type": "code",
   "execution_count": 2,
   "id": "95677da7",
   "metadata": {},
   "outputs": [],
   "source": [
    "mnist = keras.datasets.mnist  # 载入\n",
    "(train, train_y), (test, test_y) = mnist.load_data()  # 分解为训练数据和测试数据"
   ]
  },
  {
   "cell_type": "code",
   "execution_count": 3,
   "id": "08aa77e2",
   "metadata": {},
   "outputs": [
    {
     "name": "stdout",
     "output_type": "stream",
     "text": [
      "(60000, 28, 28)\n",
      "(10000, 28, 28)\n",
      "像素范围：0 ~ 255\n"
     ]
    }
   ],
   "source": [
    "print(train.shape)\n",
    "print(test.shape)\n",
    "print('像素范围：{} ~ {}'.format(np.min(train), np.max(train)))"
   ]
  },
  {
   "cell_type": "code",
   "execution_count": 4,
   "id": "d467f243",
   "metadata": {},
   "outputs": [
    {
     "name": "stdout",
     "output_type": "stream",
     "text": [
      "label范围：0 ~ 9\n"
     ]
    }
   ],
   "source": [
    "# 查看样本的label\n",
    "print('label范围：{} ~ {}'.format(np.min(train_y), np.max(train_y)))"
   ]
  },
  {
   "cell_type": "code",
   "execution_count": 5,
   "id": "7c2ecd21",
   "metadata": {},
   "outputs": [
    {
     "name": "stdout",
     "output_type": "stream",
     "text": [
      "3\n"
     ]
    },
    {
     "data": {
      "image/png": "[encoded data removed]",
      "text/plain": [
       "<Figure size 432x288 with 2 Axes>"
      ]
     },
     "metadata": {
      "needs_background": "light"
     },
     "output_type": "display_data"
    }
   ],
   "source": [
    "n = 10\n",
    "print(train_y[n])\n",
    "plt.imshow(train[n])\n",
    "plt.colorbar()\n",
    "plt.show()"
   ]
  },
  {
   "cell_type": "code",
   "execution_count": 6,
   "id": "5ebb7767",
   "metadata": {},
   "outputs": [],
   "source": [
    "train = train / 255\n",
    "test = test / 255"
   ]
  },
  {
   "cell_type": "code",
   "execution_count": 7,
   "id": "e645d229",
   "metadata": {},
   "outputs": [],
   "source": [
    "model = keras.Sequential([\n",
    "    keras.layers.Flatten(input_shape=(28, 28)),   # input layer\n",
    "    keras.layers.Dense(128, activation='relu'),    # hidden layer\n",
    "    keras.layers.Dense(10, activation='softmax')  # output layer\n",
    "])"
   ]
  },
  {
   "cell_type": "code",
   "execution_count": 8,
   "id": "f35e3447",
   "metadata": {},
   "outputs": [],
   "source": [
    "model.compile(optimizer='adam',\n",
    "             loss='sparse_categorical_crossentropy',  # 交叉熵\n",
    "             metrics=['accuracy'])  # 准确率作为判断指标"
   ]
  },
  {
   "cell_type": "code",
   "execution_count": 9,
   "id": "6ac21587",
   "metadata": {},
   "outputs": [
    {
     "name": "stdout",
     "output_type": "stream",
     "text": [
      "Epoch 1/10\n",
      "1875/1875 [==============================] - 2s 1ms/step - loss: 0.2575 - accuracy: 0.9267\n",
      "Epoch 2/10\n",
      "1875/1875 [==============================] - 2s 1ms/step - loss: 0.1110 - accuracy: 0.9674\n",
      "Epoch 3/10\n",
      "1875/1875 [==============================] - 2s 1ms/step - loss: 0.0781 - accuracy: 0.9766\n",
      "Epoch 4/10\n",
      "1875/1875 [==============================] - 2s 1ms/step - loss: 0.0570 - accuracy: 0.9826\n",
      "Epoch 5/10\n",
      "1875/1875 [==============================] - 2s 1ms/step - loss: 0.0441 - accuracy: 0.9864\n",
      "Epoch 6/10\n",
      "1875/1875 [==============================] - 2s 1ms/step - loss: 0.0349 - accuracy: 0.9896\n",
      "Epoch 7/10\n",
      "1875/1875 [==============================] - 2s 1ms/step - loss: 0.0283 - accuracy: 0.9915\n",
      "Epoch 8/10\n",
      "1875/1875 [==============================] - 2s 1ms/step - loss: 0.0234 - accuracy: 0.9926\n",
      "Epoch 9/10\n",
      "1875/1875 [==============================] - 2s 1ms/step - loss: 0.0183 - accuracy: 0.9942\n",
      "Epoch 10/10\n",
      "1875/1875 [==============================] - 2s 1ms/step - loss: 0.0163 - accuracy: 0.9950\n"
     ]
    },
    {
     "data": {
      "text/plain": [
       "<keras.callbacks.History at 0x1b11b7c6cd0>"
      ]
     },
     "execution_count": 9,
     "metadata": {},
     "output_type": "execute_result"
    }
   ],
   "source": [
    "model.fit(train, train_y, epochs=10)"
   ]
  },
  {
   "cell_type": "markdown",
   "id": "703e7e3e",
   "metadata": {},
   "source": [
    "`loss, metrics = model.evaluate(x, y)` 返回根据测试数据计算出的 `loss value & metrics values`（损失值和模型评判指标）"
   ]
  },
  {
   "cell_type": "code",
   "execution_count": 10,
   "id": "21b1c850",
   "metadata": {
    "scrolled": true
   },
   "outputs": [
    {
     "name": "stdout",
     "output_type": "stream",
     "text": [
      "313/313 [==============================] - 0s 753us/step - loss: 0.0817 - accuracy: 0.9778\n"
     ]
    }
   ],
   "source": [
    "loss, acc = model.evaluate(test, test_y)"
   ]
  },
  {
   "cell_type": "markdown",
   "id": "fae00753",
   "metadata": {},
   "source": [
    "### 预测结果\n",
    "使用 `model.predict(test)` 可以得到最后一组的全部预测结果，输出结果为小数形式，我们只需找到最大的值对应的下标，即为模型预测的结果，使用 `np.argmax()` 即可得到最大值的下标. "
   ]
  },
  {
   "cell_type": "code",
   "execution_count": 11,
   "id": "61f5701b",
   "metadata": {},
   "outputs": [
    {
     "name": "stdout",
     "output_type": "stream",
     "text": [
      "[[8.52470816e-10 1.49553614e-06 5.91789906e-08 5.66550943e-06\n",
      "  1.05249224e-13 2.98108471e-09 1.42845447e-15 9.99991417e-01\n",
      "  8.80496742e-09 1.20728191e-06]]\n",
      "7\n",
      "预测值： 7\n"
     ]
    }
   ],
   "source": [
    "result = model.predict(test)  # 预测全部测试集据\n",
    "print(model.predict(np.array([test[0]])))  # 预测一个测试样本的结果\n",
    "print(np.argmax(result[0]))  # 获得最大值对应下标，即预测的结果\n",
    "print('预测值：', np.argmax(result[0]))  # 输出对应的label类别"
   ]
  },
  {
   "cell_type": "code",
   "execution_count": 12,
   "id": "52e1eed6",
   "metadata": {
    "scrolled": true
   },
   "outputs": [
    {
     "data": {
      "image/png": "[encoded data removed]",
      "text/plain": [
       "<Figure size 432x288 with 1 Axes>"
      ]
     },
     "metadata": {
      "needs_background": "light"
     },
     "output_type": "display_data"
    }
   ],
   "source": [
    "plt.rcParams['font.size'] = 20  # 固定字体大小\n",
    "def check(n):\n",
    "    predict = np.argmax(model.predict(test)[n])  # 返回预测值\n",
    "    plt.imshow(test[n], cmap=plt.cm.binary)\n",
    "    plt.title('真实值：' + str(test_y[n]))\n",
    "    plt.xlabel('预测值：' + str(predict))\n",
    "    plt.show()\n",
    "check(9)"
   ]
  },
  {
   "cell_type": "code",
   "execution_count": null,
   "id": "8b3b87b7",
   "metadata": {
    "scrolled": false
   },
   "outputs": [],
   "source": [
    "# 输出前10个错误预测结果\n",
    "cnt = 10\n",
    "result = model.predict(test)\n",
    "for i in range(test.shape[0]):\n",
    "    predict = np.argmax(result[i])\n",
    "    if predict != test_y[i]:\n",
    "        check(i)\n",
    "        cnt -= 1\n",
    "    if cnt == 0:\n",
    "        break"
   ]
  },
  {
   "cell_type": "markdown",
   "id": "895977d7",
   "metadata": {},
   "source": [
    "### 自定义测试样本\n",
    "可以通过画图工具修改目录下的 `test.png` 文件，用于自定义预测数据，看看能否识别自己写的数字！"
   ]
  },
  {
   "cell_type": "code",
   "execution_count": 14,
   "id": "bd20ee7b",
   "metadata": {},
   "outputs": [],
   "source": [
    "from PIL import Image  # 用于转换图像"
   ]
  },
  {
   "cell_type": "code",
   "execution_count": 15,
   "id": "1beba4a0",
   "metadata": {},
   "outputs": [
    {
     "data": {
      "image/png": "[encoded data removed]",
      "text/plain": [
       "<Figure size 432x288 with 1 Axes>"
      ]
     },
     "metadata": {
      "needs_background": "light"
     },
     "output_type": "display_data"
    }
   ],
   "source": [
    "def my_test():\n",
    "    image = Image.open('test.png')\n",
    "    image = image.convert('L')\n",
    "    mytest = np.array(image)\n",
    "    mytest = 255 - mytest\n",
    "    mytest = mytest.reshape(1, 28, -1)\n",
    "    result = np.argmax(model.predict(mytest))\n",
    "    plt.imshow(mytest[0])\n",
    "    plt.xlabel('预测值：' + str(result))\n",
    "    plt.show()\n",
    "\n",
    "my_test()"
   ]
  }
 ],
 "metadata": {
  "kernelspec": {
   "display_name": "Python 3 (ipykernel)",
   "language": "python",
   "name": "python3"
  },
  "language_info": {
   "codemirror_mode": {
    "name": "ipython",
    "version": 3
   },
   "file_extension": ".py",
   "mimetype": "text/x-python",
   "name": "python",
   "nbconvert_exporter": "python",
   "pygments_lexer": "ipython3",
   "version": "3.9.13"
  }
 },
 "nbformat": 4,
 "nbformat_minor": 5
}
