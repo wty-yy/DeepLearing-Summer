{
 "cells": [
  {
   "cell_type": "markdown",
   "metadata": {
    "id": "j0xIs-4PYToe"
   },
   "source": [
    " ## TensorFlow的核心学习算法\n",
    "学习4个基础的机器学习算法：\n",
    "- 线性回归\n",
    "- 分类\n",
    "- 聚类\n",
    "- 隐藏Markov模型"
   ]
  },
  {
   "cell_type": "markdown",
   "metadata": {
    "id": "3XQepATSZH61"
   },
   "source": [
    "## 线性回归 Linear Regression\n",
    "引入包"
   ]
  },
  {
   "cell_type": "code",
   "execution_count": 1,
   "metadata": {
    "id": "CLTtNjePc5ef"
   },
   "outputs": [],
   "source": [
    "%tensorflow_version 2.x"
   ]
  },
  {
   "cell_type": "code",
   "execution_count": 2,
   "metadata": {
    "id": "2gXpZ8LZc_Zx"
   },
   "outputs": [],
   "source": [
    "import numpy as np\n",
    "import pandas as pd\n",
    "import matplotlib.pyplot as plt\n",
    "from IPython.display import clear_output\n",
    "from six.moves import urllib\n",
    "\n",
    "import tensorflow as tf"
   ]
  },
  {
   "cell_type": "markdown",
   "metadata": {
    "id": "s4KglhVzf6Dq"
   },
   "source": [
    "### 预测泰坦尼克号生存人员\n",
    "导入数据"
   ]
  },
  {
   "cell_type": "code",
   "execution_count": 3,
   "metadata": {
    "colab": {
     "base_uri": "https://localhost:8080/"
    },
    "id": "m5YHywn3hLj9",
    "outputId": "1f4871c6-952b-4e03-c1f5-9a767fc8542c"
   },
   "outputs": [
    {
     "name": "stdout",
     "output_type": "stream",
     "text": [
      "0      22.0\n",
      "1      38.0\n",
      "2      26.0\n",
      "3      35.0\n",
      "4      28.0\n",
      "       ... \n",
      "622    28.0\n",
      "623    25.0\n",
      "624    19.0\n",
      "625    28.0\n",
      "626    32.0\n",
      "Name: age, Length: 627, dtype: float64\n",
      "sex                          male\n",
      "age                          22.0\n",
      "n_siblings_spouses              1\n",
      "parch                           0\n",
      "fare                         7.25\n",
      "class                       Third\n",
      "deck                      unknown\n",
      "embark_town           Southampton\n",
      "alone                           n\n",
      "Name: 0, dtype: object 0\n"
     ]
    }
   ],
   "source": [
    "dftrain = pd.read_csv('https://storage.googleapis.com/tf-datasets/titanic/train.csv') # 训练集 training data\n",
    "dfeval = pd.read_csv('https://storage.googleapis.com/tf-datasets/titanic/eval.csv') # 测试集 testing data\n",
    "y_train = dftrain.pop('survived') # 提取出'survived'列，作为label\n",
    "y_eval = dfeval.pop('survived')\n",
    "print(dftrain['age'])  # 取出'age'该列\n",
    "print(dftrain.loc[0], y_train.loc[0])  # 取出第0行的信息"
   ]
  },
  {
   "cell_type": "markdown",
   "metadata": {
    "id": "FREjQB3GplSa"
   },
   "source": [
    "### 数据观察\n",
    "\n",
    "一些观察大致数据的方法"
   ]
  },
  {
   "cell_type": "code",
   "execution_count": 4,
   "metadata": {
    "colab": {
     "base_uri": "https://localhost:8080/",
     "height": 300
    },
    "id": "34MaVay9k-ev",
    "outputId": "b14a4182-8a00-4408-c962-ea2054d4bc0b"
   },
   "outputs": [
    {
     "data": {
      "text/html": [
       "\n",
       "  <div id=\"df-006f7026-231d-4dae-a720-6ed832882892\">\n",
       "    <div class=\"colab-df-container\">\n",
       "      <div>\n",
       "<style scoped>\n",
       "    .dataframe tbody tr th:only-of-type {\n",
       "        vertical-align: middle;\n",
       "    }\n",
       "\n",
       "    .dataframe tbody tr th {\n",
       "        vertical-align: top;\n",
       "    }\n",
       "\n",
       "    .dataframe thead th {\n",
       "        text-align: right;\n",
       "    }\n",
       "</style>\n",
       "<table border=\"1\" class=\"dataframe\">\n",
       "  <thead>\n",
       "    <tr style=\"text-align: right;\">\n",
       "      <th></th>\n",
       "      <th>age</th>\n",
       "      <th>n_siblings_spouses</th>\n",
       "      <th>parch</th>\n",
       "      <th>fare</th>\n",
       "    </tr>\n",
       "  </thead>\n",
       "  <tbody>\n",
       "    <tr>\n",
       "      <th>count</th>\n",
       "      <td>627.000000</td>\n",
       "      <td>627.000000</td>\n",
       "      <td>627.000000</td>\n",
       "      <td>627.000000</td>\n",
       "    </tr>\n",
       "    <tr>\n",
       "      <th>mean</th>\n",
       "      <td>29.631308</td>\n",
       "      <td>0.545455</td>\n",
       "      <td>0.379585</td>\n",
       "      <td>34.385399</td>\n",
       "    </tr>\n",
       "    <tr>\n",
       "      <th>std</th>\n",
       "      <td>12.511818</td>\n",
       "      <td>1.151090</td>\n",
       "      <td>0.792999</td>\n",
       "      <td>54.597730</td>\n",
       "    </tr>\n",
       "    <tr>\n",
       "      <th>min</th>\n",
       "      <td>0.750000</td>\n",
       "      <td>0.000000</td>\n",
       "      <td>0.000000</td>\n",
       "      <td>0.000000</td>\n",
       "    </tr>\n",
       "    <tr>\n",
       "      <th>25%</th>\n",
       "      <td>23.000000</td>\n",
       "      <td>0.000000</td>\n",
       "      <td>0.000000</td>\n",
       "      <td>7.895800</td>\n",
       "    </tr>\n",
       "    <tr>\n",
       "      <th>50%</th>\n",
       "      <td>28.000000</td>\n",
       "      <td>0.000000</td>\n",
       "      <td>0.000000</td>\n",
       "      <td>15.045800</td>\n",
       "    </tr>\n",
       "    <tr>\n",
       "      <th>75%</th>\n",
       "      <td>35.000000</td>\n",
       "      <td>1.000000</td>\n",
       "      <td>0.000000</td>\n",
       "      <td>31.387500</td>\n",
       "    </tr>\n",
       "    <tr>\n",
       "      <th>max</th>\n",
       "      <td>80.000000</td>\n",
       "      <td>8.000000</td>\n",
       "      <td>5.000000</td>\n",
       "      <td>512.329200</td>\n",
       "    </tr>\n",
       "  </tbody>\n",
       "</table>\n",
       "</div>\n",
       "      <button class=\"colab-df-convert\" onclick=\"convertToInteractive('df-006f7026-231d-4dae-a720-6ed832882892')\"\n",
       "              title=\"Convert this dataframe to an interactive table.\"\n",
       "              style=\"display:none;\">\n",
       "        \n",
       "  <svg xmlns=\"http://www.w3.org/2000/svg\" height=\"24px\"viewBox=\"0 0 24 24\"\n",
       "       width=\"24px\">\n",
       "    <path d=\"M0 0h24v24H0V0z\" fill=\"none\"/>\n",
       "    <path d=\"M18.56 5.44l.94 2.06.94-2.06 2.06-.94-2.06-.94-.94-2.06-.94 2.06-2.06.94zm-11 1L8.5 8.5l.94-2.06 2.06-.94-2.06-.94L8.5 2.5l-.94 2.06-2.06.94zm10 10l.94 2.06.94-2.06 2.06-.94-2.06-.94-.94-2.06-.94 2.06-2.06.94z\"/><path d=\"M17.41 7.96l-1.37-1.37c-.4-.4-.92-.59-1.43-.59-.52 0-1.04.2-1.43.59L10.3 9.45l-7.72 7.72c-.78.78-.78 2.05 0 2.83L4 21.41c.39.39.9.59 1.41.59.51 0 1.02-.2 1.41-.59l7.78-7.78 2.81-2.81c.8-.78.8-2.07 0-2.86zM5.41 20L4 18.59l7.72-7.72 1.47 1.35L5.41 20z\"/>\n",
       "  </svg>\n",
       "      </button>\n",
       "      \n",
       "  <style>\n",
       "    .colab-df-container {\n",
       "      display:flex;\n",
       "      flex-wrap:wrap;\n",
       "      gap: 12px;\n",
       "    }\n",
       "\n",
       "    .colab-df-convert {\n",
       "      background-color: #E8F0FE;\n",
       "      border: none;\n",
       "      border-radius: 50%;\n",
       "      cursor: pointer;\n",
       "      display: none;\n",
       "      fill: #1967D2;\n",
       "      height: 32px;\n",
       "      padding: 0 0 0 0;\n",
       "      width: 32px;\n",
       "    }\n",
       "\n",
       "    .colab-df-convert:hover {\n",
       "      background-color: #E2EBFA;\n",
       "      box-shadow: 0px 1px 2px rgba(60, 64, 67, 0.3), 0px 1px 3px 1px rgba(60, 64, 67, 0.15);\n",
       "      fill: #174EA6;\n",
       "    }\n",
       "\n",
       "    [theme=dark] .colab-df-convert {\n",
       "      background-color: #3B4455;\n",
       "      fill: #D2E3FC;\n",
       "    }\n",
       "\n",
       "    [theme=dark] .colab-df-convert:hover {\n",
       "      background-color: #434B5C;\n",
       "      box-shadow: 0px 1px 3px 1px rgba(0, 0, 0, 0.15);\n",
       "      filter: drop-shadow(0px 1px 2px rgba(0, 0, 0, 0.3));\n",
       "      fill: #FFFFFF;\n",
       "    }\n",
       "  </style>\n",
       "\n",
       "      <script>\n",
       "        const buttonEl =\n",
       "          document.querySelector('#df-006f7026-231d-4dae-a720-6ed832882892 button.colab-df-convert');\n",
       "        buttonEl.style.display =\n",
       "          google.colab.kernel.accessAllowed ? 'block' : 'none';\n",
       "\n",
       "        async function convertToInteractive(key) {\n",
       "          const element = document.querySelector('#df-006f7026-231d-4dae-a720-6ed832882892');\n",
       "          const dataTable =\n",
       "            await google.colab.kernel.invokeFunction('convertToInteractive',\n",
       "                                                     [key], {});\n",
       "          if (!dataTable) return;\n",
       "\n",
       "          const docLinkHtml = 'Like what you see? Visit the ' +\n",
       "            '<a target=\"_blank\" href=https://colab.research.google.com/notebooks/data_table.ipynb>data table notebook</a>'\n",
       "            + ' to learn more about interactive tables.';\n",
       "          element.innerHTML = '';\n",
       "          dataTable['output_type'] = 'display_data';\n",
       "          await google.colab.output.renderOutput(dataTable, element);\n",
       "          const docLink = document.createElement('div');\n",
       "          docLink.innerHTML = docLinkHtml;\n",
       "          element.appendChild(docLink);\n",
       "        }\n",
       "      </script>\n",
       "    </div>\n",
       "  </div>\n",
       "  "
      ],
      "text/plain": [
       "              age  n_siblings_spouses       parch        fare\n",
       "count  627.000000          627.000000  627.000000  627.000000\n",
       "mean    29.631308            0.545455    0.379585   34.385399\n",
       "std     12.511818            1.151090    0.792999   54.597730\n",
       "min      0.750000            0.000000    0.000000    0.000000\n",
       "25%     23.000000            0.000000    0.000000    7.895800\n",
       "50%     28.000000            0.000000    0.000000   15.045800\n",
       "75%     35.000000            1.000000    0.000000   31.387500\n",
       "max     80.000000            8.000000    5.000000  512.329200"
      ]
     },
     "execution_count": 4,
     "metadata": {},
     "output_type": "execute_result"
    }
   ],
   "source": [
    "dftrain.describe()  # 取出一些整体的信息"
   ]
  },
  {
   "cell_type": "code",
   "execution_count": 5,
   "metadata": {
    "colab": {
     "base_uri": "https://localhost:8080/"
    },
    "id": "P6z9SIBolUPq",
    "outputId": "488b10b0-d4d2-4e00-95dc-e79211d4bad7"
   },
   "outputs": [
    {
     "data": {
      "text/plain": [
       "(627, 9)"
      ]
     },
     "execution_count": 5,
     "metadata": {},
     "output_type": "execute_result"
    }
   ],
   "source": [
    "dftrain.shape  # 查看datafram的shape"
   ]
  },
  {
   "cell_type": "code",
   "execution_count": 6,
   "metadata": {
    "colab": {
     "base_uri": "https://localhost:8080/",
     "height": 283
    },
    "id": "P8-uS9DMlokb",
    "outputId": "c24e6a05-5a01-4a56-eede-0d10db9a511b"
   },
   "outputs": [
    {
     "data": {
      "text/plain": [
       "<matplotlib.axes._subplots.AxesSubplot at 0x7fa6f02d4f10>"
      ]
     },
     "execution_count": 6,
     "metadata": {},
     "output_type": "execute_result"
    },
    {
     "data": {
      "image/png": "[encoded data removed]",
      "text/plain": [
       "<Figure size 432x288 with 1 Axes>"
      ]
     },
     "metadata": {
      "needs_background": "light"
     },
     "output_type": "display_data"
    }
   ],
   "source": [
    "dftrain.age.hist(bins=20)  # 用直方图的方式查看"
   ]
  },
  {
   "cell_type": "code",
   "execution_count": 7,
   "metadata": {
    "colab": {
     "base_uri": "https://localhost:8080/",
     "height": 283
    },
    "id": "eAEF_lximBw5",
    "outputId": "4bd997cb-d5e8-4d81-823a-78a05efb1ce1"
   },
   "outputs": [
    {
     "data": {
      "text/plain": [
       "<matplotlib.axes._subplots.AxesSubplot at 0x7fa6f01959d0>"
      ]
     },
     "execution_count": 7,
     "metadata": {},
     "output_type": "execute_result"
    },
    {
     "data": {
      "image/png": "[encoded data removed]",
      "text/plain": [
       "<Figure size 432x288 with 1 Axes>"
      ]
     },
     "metadata": {
      "needs_background": "light"
     },
     "output_type": "display_data"
    }
   ],
   "source": [
    "dftrain['sex'].value_counts().plot(kind='barh')"
   ]
  },
  {
   "cell_type": "code",
   "execution_count": 8,
   "metadata": {
    "colab": {
     "base_uri": "https://localhost:8080/",
     "height": 283
    },
    "id": "EycSuG7YmNFY",
    "outputId": "2103ff51-10e2-4107-b853-26c50d6a7071"
   },
   "outputs": [
    {
     "data": {
      "text/plain": [
       "<matplotlib.axes._subplots.AxesSubplot at 0x7fa6efcc1410>"
      ]
     },
     "execution_count": 8,
     "metadata": {},
     "output_type": "execute_result"
    },
    {
     "data": {
      "image/png": "[encoded data removed]",
      "text/plain": [
       "<Figure size 432x288 with 1 Axes>"
      ]
     },
     "metadata": {
      "needs_background": "light"
     },
     "output_type": "display_data"
    }
   ],
   "source": [
    "dftrain['class'].value_counts().plot(kind='barh')"
   ]
  },
  {
   "cell_type": "code",
   "execution_count": 9,
   "metadata": {
    "colab": {
     "base_uri": "https://localhost:8080/",
     "height": 297
    },
    "id": "x4cPhu9hmu8y",
    "outputId": "eefc843e-4a9c-469c-e244-27d820c718c8"
   },
   "outputs": [
    {
     "data": {
      "text/plain": [
       "Text(0.5, 0, '% survive')"
      ]
     },
     "execution_count": 9,
     "metadata": {},
     "output_type": "execute_result"
    },
    {
     "data": {
      "image/png": "[encoded data removed]",
      "text/plain": [
       "<Figure size 432x288 with 1 Axes>"
      ]
     },
     "metadata": {
      "needs_background": "light"
     },
     "output_type": "display_data"
    }
   ],
   "source": [
    "pd.concat([dftrain, y_train], axis=1).groupby('sex').survived.mean().plot(kind='barh').set_xlabel('% survive')"
   ]
  },
  {
   "cell_type": "markdown",
   "metadata": {
    "id": "lk6-PHpVpwW_"
   },
   "source": [
    "### 特征列\n",
    "\n",
    "在特征数据内，有两种数据：**Categorical 抽象名词**和**Numeric 数字**.\n",
    "- Categorical 就像 sex 列中的`male, female`（string类），parch 列（int类）.\n",
    "- Numeric 当然就是具体的数字，如 ages 列中的具体浮点数（float类）.\n",
    "\n",
    "现在我们需要先将特征从 categorical 转化为 numric 再进行训练. 这里可以利用tensorflow的特征列帮助我们完成."
   ]
  },
  {
   "cell_type": "code",
   "execution_count": 10,
   "metadata": {
    "colab": {
     "base_uri": "https://localhost:8080/"
    },
    "id": "Ex3EPqjItLX7",
    "outputId": "38ab437c-d0be-4c97-f830-0c69ec1fdbb0"
   },
   "outputs": [
    {
     "name": "stdout",
     "output_type": "stream",
     "text": [
      "        0        1                   2      3        4       5       6            7       8\n",
      "0     sex      age  n_siblings_spouses  parch     fare   class    deck  embark_town   alone\n",
      "1  object  float64               int64  int64  float64  object  object       object  object\n"
     ]
    }
   ],
   "source": [
    "pd.set_option('expand_frame_repr', False)  # print(df)在一行中显示出来 repr(representative) \n",
    "l = [list(dftrain.columns), [dftrain[col].dtype for col in dftrain.columns]]\n",
    "print(pd.DataFrame(l))"
   ]
  },
  {
   "cell_type": "code",
   "execution_count": 11,
   "metadata": {
    "colab": {
     "base_uri": "https://localhost:8080/"
    },
    "id": "aZ7-Ud5Pp8B8",
    "outputId": "a89e38d4-2062-4d0d-ae93-be4f5c1ee793"
   },
   "outputs": [
    {
     "name": "stdout",
     "output_type": "stream",
     "text": [
      "[VocabularyListCategoricalColumn(key='sex', vocabulary_list=('male', 'female'), dtype=tf.string, default_value=-1, num_oov_buckets=0), VocabularyListCategoricalColumn(key='class', vocabulary_list=('Third', 'First', 'Second'), dtype=tf.string, default_value=-1, num_oov_buckets=0), VocabularyListCategoricalColumn(key='deck', vocabulary_list=('unknown', 'C', 'G', 'A', 'B', 'D', 'F', 'E'), dtype=tf.string, default_value=-1, num_oov_buckets=0), VocabularyListCategoricalColumn(key='embark_town', vocabulary_list=('Southampton', 'Cherbourg', 'Queenstown', 'unknown'), dtype=tf.string, default_value=-1, num_oov_buckets=0), VocabularyListCategoricalColumn(key='alone', vocabulary_list=('n', 'y'), dtype=tf.string, default_value=-1, num_oov_buckets=0), NumericColumn(key='age', shape=(1,), default_value=None, dtype=tf.float32, normalizer_fn=None), NumericColumn(key='n_siblings_spouses', shape=(1,), default_value=None, dtype=tf.float32, normalizer_fn=None), NumericColumn(key='parch', shape=(1,), default_value=None, dtype=tf.float32, normalizer_fn=None), NumericColumn(key='fare', shape=(1,), default_value=None, dtype=tf.float32, normalizer_fn=None)]\n"
     ]
    }
   ],
   "source": [
    "categorical_col = ['sex', 'class', 'deck', 'embark_town', 'alone']  # 所有stirng和int类\n",
    "numeric_col = ['age', 'n_siblings_spouses', 'parch', 'fare']  # 所有float类\n",
    "feature_col = []\n",
    "\n",
    "for name in categorical_col:\n",
    "    vocabulary = dftrain[name].unique()  # 获取该列中的去重后的特征值\n",
    "    feature_col.append(tf.feature_column.categorical_column_with_vocabulary_list(name, vocabulary))  # 将关键字name，和词汇表vocabulary对应\n",
    "for name in numeric_col:\n",
    "    feature_col.append(tf.feature_column.numeric_column(name, dtype=tf.float32))\n",
    "print(feature_col)"
   ]
  },
  {
   "cell_type": "markdown",
   "metadata": {
    "id": "3jGSTzd54NUM"
   },
   "source": [
    "### 训练过程\n",
    "\n",
    "以上已经完成了数据的准备工作，接下来进行数据的训练，具体训练过程如下：\n",
    "\n",
    "**Mini-Batch**：对于这个特殊的模型，将会从数据集中选取一个大小为32的batch进行一次训练，而不会一次使用整个数据集进行一次更新. 每个batch的大小称为batch size.\n",
    "\n",
    "**epoch**：表示完整训练集学习的次数，也就是我们的模型会将利用训练集总共训练epoch次\n"
   ]
  },
  {
   "cell_type": "markdown",
   "metadata": {
    "id": "0RnpRRl67kNL"
   },
   "source": [
    "### 输入函数 Input Function\n",
    "\n",
    "解释在每一个echo下，如何将数据分到不同的batch当中，再用于模型训练当中.\n",
    "\n",
    "我们需要将得到的数据转化为 `tf.data.Dataset` 类型，下列函数具体应用在 [API - Dataset](https://www.tensorflow.org/api_docs/python/tf/data/Dataset) 中查看，学习 [Dataset 教程](https://tensorflow.google.cn/guide/data)."
   ]
  },
  {
   "cell_type": "markdown",
   "metadata": {
    "id": "0AfJMs0E63ps"
   },
   "source": [
    "#### Dataset 类\n",
    "我们会使用到其中几个api：\n",
    "- `ds = tf.data.Dataset.range(n)` 创建一个由 `0,1,2,...,n` 的 `Dataset` 型数据类型.\n",
    "- `ds.shuffle(n, reshuffle_each_iteration=True)` 使用buffer_size为 `n` 的缓存空间（相当于又开了一个buffer数组）每次将原数组中的元素放入到buffer中，如果放满了就**随机**弹出一个元素，然后在选一个元素放入到buffer中，直到原数组中没有元素，所以只要buffer_size不为 `1` 就会具有打乱的效果（[参考文章](https://blog.csdn.net/u011913417/article/details/106275103)）. 第二个参数表示是否在每个epoch中都进行打乱，每次访问都会将其打乱一次（英文很形象）.\n",
    "- `ds.repeat(n)` 将 `ds` 中的元素复制 `n` 次，如果 `n=-1` 或者为空，则会无限次复制下去（在分类算法中会用到）.\n",
    "- `ds.as_numpy_iterator()` 将 `ds` 中的元素以 `numpy` 迭代器的形式输出，套上 `list()` 我们就可以‘方便的’查看 `ds` 中的元素了！\n",
    "- `ds.batch(n, drop_raminder=False)` 将 `ds` 中的数据按照大小为 `n` 进行分划，如果不能完全整分，则如果 `drop_raminder=False`（默认）则保留最后不完整部分，`drop_raminder=True` 则不保留.\n"
   ]
  },
  {
   "cell_type": "code",
   "execution_count": 12,
   "metadata": {
    "colab": {
     "base_uri": "https://localhost:8080/"
    },
    "id": "0fkKfQsr9YOy",
    "outputId": "b8018d6c-d7a7-4cde-8f82-0f5e06df99ba"
   },
   "outputs": [
    {
     "name": "stdout",
     "output_type": "stream",
     "text": [
      "创建一个dataset: [0, 1, 2, 3, 4]\n",
      "打乱前三个: [2, 3, 4, 0, 1]\n",
      "打乱前三个: [4, 2, 3, 0, 1]\n",
      "划分为大小为5的batch: [array([4, 3, 0]), array([1, 2])]\n",
      "重复三次: [array([3, 4, 0]), array([2, 1]), array([0, 3, 1]), array([4, 2]), array([2, 4, 3]), array([1, 0])]\n"
     ]
    }
   ],
   "source": [
    "ds = tf.data.Dataset.range(5)\n",
    "print('创建一个dataset: {}'.format(list(ds.as_numpy_iterator())))\n",
    "ds = ds.shuffle(5)  # buffer_size=5且在每次epoch中都是不同的\n",
    "print('打乱前三个: {}'.format(list(ds.as_numpy_iterator())))\n",
    "print('打乱前三个: {}'.format(list(ds.as_numpy_iterator())))\n",
    "ds = ds.batch(3, drop_remainder=False)  # 即batch_size=3，以3个更新一次\n",
    "print('划分为大小为5的batch: {}'.format(list(ds.as_numpy_iterator())))\n",
    "ds = ds.repeat(3)  # 将ds重复三次，即epoch=3，训练3次整个训练集\n",
    "print('重复三次: {}'.format(list(ds.as_numpy_iterator())))  # 每次重复都会被打乱"
   ]
  },
  {
   "cell_type": "markdown",
   "metadata": {
    "id": "IxSKefbkEklY"
   },
   "source": [
    "还有一种重要的创建Dataset的方法，利用张量切片进行创建：\n",
    "- `tf.data.Dataset.from_tensor_slices(tensor)` 值得注意的是它是根据第一维信切片创建的，也就是说他会遍历tensors的第一维（可理解为训练数据的总数），然后以第一维对应的元素进行创建. \n",
    "- `tf.data.Dataset.from_tensor_slices((tensor1, tensor2, ...))` 如果是tuple输入形式，则会取出各个tesnor1,tensor2,...的第一维的元素创建一个tuple作为一个整体（完全符合特征与标签的对应方法）.\n",
    "- 这里将tensor换成dict也是可以的，就会根据dict的key值作为第一维做切片.\n",
    "\n",
    "具体看如下例子："
   ]
  },
  {
   "cell_type": "code",
   "execution_count": 13,
   "metadata": {
    "colab": {
     "base_uri": "https://localhost:8080/"
    },
    "id": "2wKJfkbgFUZ2",
    "outputId": "a6d46bf5-dc28-4924-8644-8fd9461a0782"
   },
   "outputs": [
    {
     "name": "stdout",
     "output_type": "stream",
     "text": [
      "[array([1, 1]), array([2, 2]), array([3, 3])]\n",
      "[1 1] [2 2] [3 3] "
     ]
    }
   ],
   "source": [
    "x = np.array([[1, 1], [2, 2], [3, 3]])  # 3组训练数据的特征向量，每个特征向量有3种特征\n",
    "y = np.array([1, 2, 3])  # 3组训练数据对应的标签\n",
    "ds = tf.data.Dataset.from_tensor_slices(x)  # 直接通过tensor创建dataset，则取第一维切片\n",
    "print(list(ds.as_numpy_iterator()))\n",
    "for i in range(x.shape[0]):  # 原理：取出第一维切片\n",
    "    print(x[i], end=' ')"
   ]
  },
  {
   "cell_type": "code",
   "execution_count": 14,
   "metadata": {
    "colab": {
     "base_uri": "https://localhost:8080/"
    },
    "id": "toAG-1jtHxPS",
    "outputId": "2448ef6d-1cd2-4f28-cc29-9b5eda857c64"
   },
   "outputs": [
    {
     "data": {
      "text/plain": [
       "[(array([1, 1]), 1), (array([2, 2]), 2), (array([3, 3]), 3)]"
      ]
     },
     "execution_count": 14,
     "metadata": {},
     "output_type": "execute_result"
    }
   ],
   "source": [
    "ds = tf.data.Dataset.from_tensor_slices((x, y))  # 利用tuple创建dataset的方法，就可以将他们对应起来，（特征，标签）\n",
    "list(ds.as_numpy_iterator())"
   ]
  },
  {
   "cell_type": "code",
   "execution_count": 15,
   "metadata": {
    "colab": {
     "base_uri": "https://localhost:8080/"
    },
    "id": "yUp_5ABNIlSL",
    "outputId": "c305ec4e-cb10-4368-ae08-aabd9800525b"
   },
   "outputs": [
    {
     "name": "stdout",
     "output_type": "stream",
     "text": [
      "[{'bike': 0, 'bus': 1, 'car': 2}, {'bike': 1, 'bus': 2, 'car': 3}]\n",
      "[({'bike': 0, 'bus': 1, 'car': 2}, 1), ({'bike': 1, 'bus': 2, 'car': 3}, 2)]\n"
     ]
    }
   ],
   "source": [
    "x = {'bike': [0, 1], 'bus': [1, 2], 'car': [2, 3]}  # 相当于一个2x3的tensor\n",
    "y = [1, 2]\n",
    "ds = tf.data.Dataset.from_tensor_slices(x)  # 以dict创建dataframe\n",
    "print(list(ds.as_numpy_iterator()))\n",
    "ds = tf.data.Dataset.from_tensor_slices((x, y))  # 以(dict, tesnor)的tuple创建datafram，使每一种特征更具有可读性\n",
    "print(list(ds.as_numpy_iterator()))"
   ]
  },
  {
   "cell_type": "markdown",
   "metadata": {
    "id": "slh0VT8zDTgh"
   },
   "source": [
    " 从上面对 `ds` 的操作中，我们已经看到如何划分 `batch`；根据 `ds` 重复的个数即为 `epochs`，也就是对总训练集训练的次数.\n",
    " \n",
    " 下面让我们开始实现 Input Function，`input_function` 本质是没有输入的，返回训练所需的dataset，根据不同的数据集，我们可以构造一个外部函数用于生成 `input_function`."
   ]
  },
  {
   "cell_type": "code",
   "execution_count": 16,
   "metadata": {
    "id": "dmS-w4E67CFf"
   },
   "outputs": [],
   "source": [
    "def make_input_fun(data_df, label_df, epochs=10, shuffle=True, batch_size=32):\n",
    "    def input_function():  # 注意这个input_function才是关键\n",
    "        ds = tf.data.Dataset.from_tensor_slices((dict(data_df), label_df))  # 创建数据集，以(dict, tensor)形式创建\n",
    "        if shuffle:  # 判断是否需要打乱\n",
    "            ds = ds.shuffle(1000)\n",
    "        ds = ds.batch(batch_size).repeat(epochs)  # 将数据先划分为batch，然后重复epochs次\n",
    "        return ds\n",
    "    return input_function  # 使得input_function能够直接返回dataset\n",
    "\n",
    "train_input_fun = make_input_fun(dftrain, y_train)  # 获得训练的input_function\n",
    "eval_input_fun = make_input_fun(dfeval, y_eval, epochs=1, shuffle=False)"
   ]
  },
  {
   "cell_type": "markdown",
   "metadata": {
    "id": "sQioMWOr-9sG"
   },
   "source": [
    "### 创建模型\n",
    "这里使用 linear estimator（线性估计器）去实现线性回归算法.\n",
    "\n",
    "创建方法十分简单！"
   ]
  },
  {
   "cell_type": "code",
   "execution_count": 17,
   "metadata": {
    "colab": {
     "base_uri": "https://localhost:8080/"
    },
    "id": "w3nj0FHHAF19",
    "outputId": "9b7eedaf-9324-4a9e-df1f-7d9273b6e9c1"
   },
   "outputs": [
    {
     "name": "stdout",
     "output_type": "stream",
     "text": [
      "INFO:tensorflow:Using default config.\n",
      "WARNING:tensorflow:Using temporary folder as model directory: /tmp/tmpczmse5x7\n",
      "INFO:tensorflow:Using config: {'_model_dir': '/tmp/tmpczmse5x7', '_tf_random_seed': None, '_save_summary_steps': 100, '_save_checkpoints_steps': None, '_save_checkpoints_secs': 600, '_session_config': allow_soft_placement: true\n",
      "graph_options {\n",
      "  rewrite_options {\n",
      "    meta_optimizer_iterations: ONE\n",
      "  }\n",
      "}\n",
      ", '_keep_checkpoint_max': 5, '_keep_checkpoint_every_n_hours': 10000, '_log_step_count_steps': 100, '_train_distribute': None, '_device_fn': None, '_protocol': None, '_eval_distribute': None, '_experimental_distribute': None, '_experimental_max_worker_delay_secs': None, '_session_creation_timeout_secs': 7200, '_checkpoint_save_graph_def': True, '_service': None, '_cluster_spec': ClusterSpec({}), '_task_type': 'worker', '_task_id': 0, '_global_id_in_cluster': 0, '_master': '', '_evaluation_master': '', '_is_chief': True, '_num_ps_replicas': 0, '_num_worker_replicas': 1}\n"
     ]
    }
   ],
   "source": [
    "linear_est = tf.estimator.LinearClassifier(feature_col)  # 只需将特征列传入即可创建"
   ]
  },
  {
   "cell_type": "markdown",
   "metadata": {
    "id": "qNX6SOylAhqL"
   },
   "source": [
    "### 训练及验证\n",
    "\n",
    "这里需要区分steps和epochs的区别，在训练结果中可以看到 `global step 200`，训练集中一共有627个样本，每个 `batch_size=32`，则一个epochs会运行 $\\lceil 627/32\\rceil=20$ 个mini batch，由于一共有 $10$ 个epochs，所以我们会更新 $20\\cdot 10=200$ 次，也就正好是steps的次数，也就即使更新参数的次数."
   ]
  },
  {
   "cell_type": "code",
   "execution_count": 18,
   "metadata": {
    "colab": {
     "base_uri": "https://localhost:8080/"
    },
    "id": "S0rbslJWA6Hu",
    "outputId": "fa5b261e-e26f-40b2-b84c-8e54e05f0c72"
   },
   "outputs": [
    {
     "name": "stdout",
     "output_type": "stream",
     "text": [
      "WARNING:tensorflow:From /usr/local/lib/python3.7/dist-packages/tensorflow/python/training/training_util.py:397: Variable.initialized_value (from tensorflow.python.ops.variables) is deprecated and will be removed in a future version.\n",
      "Instructions for updating:\n",
      "Use Variable.read_value. Variables in 2.X are initialized automatically both in eager and graph (inside tf.defun) contexts.\n",
      "INFO:tensorflow:Calling model_fn.\n"
     ]
    },
    {
     "name": "stderr",
     "output_type": "stream",
     "text": [
      "/usr/local/lib/python3.7/dist-packages/tensorflow_estimator/python/estimator/canned/linear.py:1478: UserWarning: `layer.add_variable` is deprecated and will be removed in a future version. Please use `layer.add_weight` method instead.\n",
      "  getter=tf.compat.v1.get_variable)\n"
     ]
    },
    {
     "name": "stdout",
     "output_type": "stream",
     "text": [
      "WARNING:tensorflow:From /usr/local/lib/python3.7/dist-packages/keras/optimizer_v2/ftrl.py:149: calling Constant.__init__ (from tensorflow.python.ops.init_ops) with dtype is deprecated and will be removed in a future version.\n",
      "Instructions for updating:\n",
      "Call initializer instance with the dtype argument instead of passing it to the constructor\n",
      "INFO:tensorflow:Done calling model_fn.\n",
      "INFO:tensorflow:Create CheckpointSaverHook.\n",
      "INFO:tensorflow:Graph was finalized.\n",
      "INFO:tensorflow:Running local_init_op.\n",
      "INFO:tensorflow:Done running local_init_op.\n",
      "INFO:tensorflow:Calling checkpoint listeners before saving checkpoint 0...\n",
      "INFO:tensorflow:Saving checkpoints for 0 into /tmp/tmpczmse5x7/model.ckpt.\n",
      "INFO:tensorflow:Calling checkpoint listeners after saving checkpoint 0...\n",
      "INFO:tensorflow:loss = 0.6931472, step = 0\n",
      "INFO:tensorflow:global_step/sec: 112.541\n",
      "INFO:tensorflow:loss = 0.5466059, step = 100 (0.892 sec)\n",
      "INFO:tensorflow:Calling checkpoint listeners before saving checkpoint 200...\n",
      "INFO:tensorflow:Saving checkpoints for 200 into /tmp/tmpczmse5x7/model.ckpt.\n",
      "INFO:tensorflow:Calling checkpoint listeners after saving checkpoint 200...\n",
      "INFO:tensorflow:Loss for final step: 0.3110122.\n",
      "INFO:tensorflow:Calling model_fn.\n",
      "INFO:tensorflow:Done calling model_fn.\n",
      "INFO:tensorflow:Starting evaluation at 2022-07-06T13:45:18\n",
      "INFO:tensorflow:Graph was finalized.\n",
      "INFO:tensorflow:Restoring parameters from /tmp/tmpczmse5x7/model.ckpt-200\n",
      "INFO:tensorflow:Running local_init_op.\n",
      "INFO:tensorflow:Done running local_init_op.\n",
      "INFO:tensorflow:Inference Time : 3.19013s\n",
      "INFO:tensorflow:Finished evaluation at 2022-07-06-13:45:22\n",
      "INFO:tensorflow:Saving dict for global step 200: accuracy = 0.77272725, accuracy_baseline = 0.625, auc = 0.83464956, auc_precision_recall = 0.7956413, average_loss = 0.48636553, global_step = 200, label/mean = 0.375, loss = 0.47492662, precision = 0.7407407, prediction/mean = 0.32238752, recall = 0.6060606\n",
      "INFO:tensorflow:Saving 'checkpoint_path' summary for global step 200: /tmp/tmpczmse5x7/model.ckpt-200\n"
     ]
    }
   ],
   "source": [
    "linear_est.train(train_input_fun)  # 开始训练\n",
    "result = linear_est.evaluate(eval_input_fun)  # 进行评估"
   ]
  },
  {
   "cell_type": "code",
   "execution_count": 19,
   "metadata": {
    "colab": {
     "base_uri": "https://localhost:8080/"
    },
    "id": "C5n7eey0CR0b",
    "outputId": "0922d254-dc4f-4969-8f1e-c8491f539052"
   },
   "outputs": [
    {
     "data": {
      "text/plain": [
       "{'accuracy': 0.77272725,\n",
       " 'accuracy_baseline': 0.625,\n",
       " 'auc': 0.83464956,\n",
       " 'auc_precision_recall': 0.7956413,\n",
       " 'average_loss': 0.48636553,\n",
       " 'global_step': 200,\n",
       " 'label/mean': 0.375,\n",
       " 'loss': 0.47492662,\n",
       " 'precision': 0.7407407,\n",
       " 'prediction/mean': 0.32238752,\n",
       " 'recall': 0.6060606}"
      ]
     },
     "execution_count": 19,
     "metadata": {},
     "output_type": "execute_result"
    }
   ],
   "source": [
    "result"
   ]
  },
  {
   "cell_type": "markdown",
   "metadata": {
    "id": "QI-meyuleE8s"
   },
   "source": [
    "### 单个数据预测"
   ]
  },
  {
   "cell_type": "code",
   "execution_count": 20,
   "metadata": {
    "colab": {
     "base_uri": "https://localhost:8080/"
    },
    "id": "8bEpHa67Ff0w",
    "outputId": "915ca5d0-82b3-4e70-c4fe-7b6f98f7fc6a"
   },
   "outputs": [
    {
     "name": "stdout",
     "output_type": "stream",
     "text": [
      "INFO:tensorflow:Calling model_fn.\n"
     ]
    },
    {
     "name": "stderr",
     "output_type": "stream",
     "text": [
      "/usr/local/lib/python3.7/dist-packages/tensorflow_estimator/python/estimator/canned/linear.py:1478: UserWarning: `layer.add_variable` is deprecated and will be removed in a future version. Please use `layer.add_weight` method instead.\n",
      "  getter=tf.compat.v1.get_variable)\n"
     ]
    },
    {
     "name": "stdout",
     "output_type": "stream",
     "text": [
      "INFO:tensorflow:Done calling model_fn.\n",
      "INFO:tensorflow:Graph was finalized.\n",
      "INFO:tensorflow:Restoring parameters from /tmp/tmpczmse5x7/model.ckpt-200\n",
      "INFO:tensorflow:Running local_init_op.\n",
      "INFO:tensorflow:Done running local_init_op.\n"
     ]
    }
   ],
   "source": [
    "result = list(linear_est.predict(eval_input_fun))  # 查看预测结果"
   ]
  },
  {
   "cell_type": "code",
   "execution_count": 21,
   "metadata": {
    "colab": {
     "base_uri": "https://localhost:8080/"
    },
    "id": "bY_q8beNDPBg",
    "outputId": "965d9583-0111-4154-dc38-de6ab838f5c1"
   },
   "outputs": [
    {
     "name": "stdout",
     "output_type": "stream",
     "text": [
      "sex                          male\n",
      "age                          34.0\n",
      "n_siblings_spouses              0\n",
      "parch                           0\n",
      "fare                         13.0\n",
      "class                      Second\n",
      "deck                            D\n",
      "embark_town           Southampton\n",
      "alone                           y\n",
      "Name: 4, dtype: object\n",
      "真实存活情况: 1\n",
      "预测存活概率：0.21320641040802002\n"
     ]
    }
   ],
   "source": [
    "id = 4\n",
    "print(dfeval.loc[id])\n",
    "print('真实存活情况: {}'.format(y_eval.loc[id]))\n",
    "print('预测存活概率：{}'.format(result[id]['probabilities'][1]))\n",
    "# result[id]['probabilities']  # 0表示死亡，1表示存活"
   ]
  },
  {
   "cell_type": "markdown",
   "metadata": {
    "id": "MtCUXCQGeL_H"
   },
   "source": [
    "## 分类算法\n",
    "回归算法（regression）用于预测数值，而分类算法（classification）用于将不同数据标签进行分离."
   ]
  },
  {
   "cell_type": "code",
   "execution_count": 22,
   "metadata": {
    "id": "eeTmZHZzejoh"
   },
   "outputs": [],
   "source": [
    "import tensorflow as tf\n",
    "import pandas as pd"
   ]
  },
  {
   "cell_type": "markdown",
   "metadata": {
    "id": "-fjWdHX-epVI"
   },
   "source": [
    "### 数据集\n",
    "这个数据集将花分为以下三类：\n",
    "- Setosa\n",
    "- Versicolor\n",
    "- Virginica\n",
    "\n",
    "花的特征有如下几个：\n",
    "- sepal length\n",
    "- sepal width\n",
    "- petal length\n",
    "- petal width"
   ]
  },
  {
   "cell_type": "code",
   "execution_count": 23,
   "metadata": {
    "id": "xIBYthGWfJ36"
   },
   "outputs": [],
   "source": [
    "columns = ['SepalLength', 'SepalWidth', 'PetalLength', 'PetalWidth', 'Species']\n",
    "species = ['Setosa', 'Versicolor', 'Virginica']"
   ]
  },
  {
   "cell_type": "markdown",
   "metadata": {
    "id": "l_DKzyHXfoao"
   },
   "source": [
    "这里使用另一种文件读入方式，能够保存数据（如果发现有相同的文件名就不会重复下载数据，但不会检测是否大小一致，所以需要手动更新），并返回路径地址\n",
    "\n",
    "`path = tf.keras.utils.get_file(fname, origin, ultar=True, cashe_dir='.')` \n",
    "- path文件保存的地址\n",
    "- fname为存储到本地的文件名.\n",
    "- origin为文件源地址.\n",
    "- ultar是否对压缩文件则进行解压.\n",
    "- cashe_dir指定保存目录，`'.'` 表示当前目录下的 `datasets` 文件夹，默认保存到本地的缓存目录 `~/.keras/datasets`，`~` 为当前用户的根目录."
   ]
  },
  {
   "cell_type": "code",
   "execution_count": 24,
   "metadata": {
    "id": "1LiLfhirfUgD"
   },
   "outputs": [],
   "source": [
    "train_path = tf.keras.utils.get_file(\n",
    "    \"iris_training.csv\", \"https://storage.googleapis.com/download.tensorflow.org/data/iris_training.csv\")\n",
    "test_path = tf.keras.utils.get_file(\n",
    "    \"iris_test.csv\", \"https://storage.googleapis.com/download.tensorflow.org/data/iris_test.csv\")"
   ]
  },
  {
   "cell_type": "code",
   "execution_count": 25,
   "metadata": {
    "colab": {
     "base_uri": "https://localhost:8080/",
     "height": 424
    },
    "id": "klK13KM-jL4F",
    "outputId": "5bb72bc0-68e9-4688-ad4e-bd3a84e53c52"
   },
   "outputs": [
    {
     "data": {
      "text/html": [
       "\n",
       "  <div id=\"df-f386949b-9cb4-432d-9894-732f9345b672\">\n",
       "    <div class=\"colab-df-container\">\n",
       "      <div>\n",
       "<style scoped>\n",
       "    .dataframe tbody tr th:only-of-type {\n",
       "        vertical-align: middle;\n",
       "    }\n",
       "\n",
       "    .dataframe tbody tr th {\n",
       "        vertical-align: top;\n",
       "    }\n",
       "\n",
       "    .dataframe thead th {\n",
       "        text-align: right;\n",
       "    }\n",
       "</style>\n",
       "<table border=\"1\" class=\"dataframe\">\n",
       "  <thead>\n",
       "    <tr style=\"text-align: right;\">\n",
       "      <th></th>\n",
       "      <th>SepalLength</th>\n",
       "      <th>SepalWidth</th>\n",
       "      <th>PetalLength</th>\n",
       "      <th>PetalWidth</th>\n",
       "      <th>Species</th>\n",
       "    </tr>\n",
       "  </thead>\n",
       "  <tbody>\n",
       "    <tr>\n",
       "      <th>0</th>\n",
       "      <td>6.4</td>\n",
       "      <td>2.8</td>\n",
       "      <td>5.6</td>\n",
       "      <td>2.2</td>\n",
       "      <td>2</td>\n",
       "    </tr>\n",
       "    <tr>\n",
       "      <th>1</th>\n",
       "      <td>5.0</td>\n",
       "      <td>2.3</td>\n",
       "      <td>3.3</td>\n",
       "      <td>1.0</td>\n",
       "      <td>1</td>\n",
       "    </tr>\n",
       "    <tr>\n",
       "      <th>2</th>\n",
       "      <td>4.9</td>\n",
       "      <td>2.5</td>\n",
       "      <td>4.5</td>\n",
       "      <td>1.7</td>\n",
       "      <td>2</td>\n",
       "    </tr>\n",
       "    <tr>\n",
       "      <th>3</th>\n",
       "      <td>4.9</td>\n",
       "      <td>3.1</td>\n",
       "      <td>1.5</td>\n",
       "      <td>0.1</td>\n",
       "      <td>0</td>\n",
       "    </tr>\n",
       "    <tr>\n",
       "      <th>4</th>\n",
       "      <td>5.7</td>\n",
       "      <td>3.8</td>\n",
       "      <td>1.7</td>\n",
       "      <td>0.3</td>\n",
       "      <td>0</td>\n",
       "    </tr>\n",
       "    <tr>\n",
       "      <th>...</th>\n",
       "      <td>...</td>\n",
       "      <td>...</td>\n",
       "      <td>...</td>\n",
       "      <td>...</td>\n",
       "      <td>...</td>\n",
       "    </tr>\n",
       "    <tr>\n",
       "      <th>115</th>\n",
       "      <td>5.5</td>\n",
       "      <td>2.6</td>\n",
       "      <td>4.4</td>\n",
       "      <td>1.2</td>\n",
       "      <td>1</td>\n",
       "    </tr>\n",
       "    <tr>\n",
       "      <th>116</th>\n",
       "      <td>5.7</td>\n",
       "      <td>3.0</td>\n",
       "      <td>4.2</td>\n",
       "      <td>1.2</td>\n",
       "      <td>1</td>\n",
       "    </tr>\n",
       "    <tr>\n",
       "      <th>117</th>\n",
       "      <td>4.4</td>\n",
       "      <td>2.9</td>\n",
       "      <td>1.4</td>\n",
       "      <td>0.2</td>\n",
       "      <td>0</td>\n",
       "    </tr>\n",
       "    <tr>\n",
       "      <th>118</th>\n",
       "      <td>4.8</td>\n",
       "      <td>3.0</td>\n",
       "      <td>1.4</td>\n",
       "      <td>0.1</td>\n",
       "      <td>0</td>\n",
       "    </tr>\n",
       "    <tr>\n",
       "      <th>119</th>\n",
       "      <td>5.5</td>\n",
       "      <td>2.4</td>\n",
       "      <td>3.7</td>\n",
       "      <td>1.0</td>\n",
       "      <td>1</td>\n",
       "    </tr>\n",
       "  </tbody>\n",
       "</table>\n",
       "<p>120 rows × 5 columns</p>\n",
       "</div>\n",
       "      <button class=\"colab-df-convert\" onclick=\"convertToInteractive('df-f386949b-9cb4-432d-9894-732f9345b672')\"\n",
       "              title=\"Convert this dataframe to an interactive table.\"\n",
       "              style=\"display:none;\">\n",
       "        \n",
       "  <svg xmlns=\"http://www.w3.org/2000/svg\" height=\"24px\"viewBox=\"0 0 24 24\"\n",
       "       width=\"24px\">\n",
       "    <path d=\"M0 0h24v24H0V0z\" fill=\"none\"/>\n",
       "    <path d=\"M18.56 5.44l.94 2.06.94-2.06 2.06-.94-2.06-.94-.94-2.06-.94 2.06-2.06.94zm-11 1L8.5 8.5l.94-2.06 2.06-.94-2.06-.94L8.5 2.5l-.94 2.06-2.06.94zm10 10l.94 2.06.94-2.06 2.06-.94-2.06-.94-.94-2.06-.94 2.06-2.06.94z\"/><path d=\"M17.41 7.96l-1.37-1.37c-.4-.4-.92-.59-1.43-.59-.52 0-1.04.2-1.43.59L10.3 9.45l-7.72 7.72c-.78.78-.78 2.05 0 2.83L4 21.41c.39.39.9.59 1.41.59.51 0 1.02-.2 1.41-.59l7.78-7.78 2.81-2.81c.8-.78.8-2.07 0-2.86zM5.41 20L4 18.59l7.72-7.72 1.47 1.35L5.41 20z\"/>\n",
       "  </svg>\n",
       "      </button>\n",
       "      \n",
       "  <style>\n",
       "    .colab-df-container {\n",
       "      display:flex;\n",
       "      flex-wrap:wrap;\n",
       "      gap: 12px;\n",
       "    }\n",
       "\n",
       "    .colab-df-convert {\n",
       "      background-color: #E8F0FE;\n",
       "      border: none;\n",
       "      border-radius: 50%;\n",
       "      cursor: pointer;\n",
       "      display: none;\n",
       "      fill: #1967D2;\n",
       "      height: 32px;\n",
       "      padding: 0 0 0 0;\n",
       "      width: 32px;\n",
       "    }\n",
       "\n",
       "    .colab-df-convert:hover {\n",
       "      background-color: #E2EBFA;\n",
       "      box-shadow: 0px 1px 2px rgba(60, 64, 67, 0.3), 0px 1px 3px 1px rgba(60, 64, 67, 0.15);\n",
       "      fill: #174EA6;\n",
       "    }\n",
       "\n",
       "    [theme=dark] .colab-df-convert {\n",
       "      background-color: #3B4455;\n",
       "      fill: #D2E3FC;\n",
       "    }\n",
       "\n",
       "    [theme=dark] .colab-df-convert:hover {\n",
       "      background-color: #434B5C;\n",
       "      box-shadow: 0px 1px 3px 1px rgba(0, 0, 0, 0.15);\n",
       "      filter: drop-shadow(0px 1px 2px rgba(0, 0, 0, 0.3));\n",
       "      fill: #FFFFFF;\n",
       "    }\n",
       "  </style>\n",
       "\n",
       "      <script>\n",
       "        const buttonEl =\n",
       "          document.querySelector('#df-f386949b-9cb4-432d-9894-732f9345b672 button.colab-df-convert');\n",
       "        buttonEl.style.display =\n",
       "          google.colab.kernel.accessAllowed ? 'block' : 'none';\n",
       "\n",
       "        async function convertToInteractive(key) {\n",
       "          const element = document.querySelector('#df-f386949b-9cb4-432d-9894-732f9345b672');\n",
       "          const dataTable =\n",
       "            await google.colab.kernel.invokeFunction('convertToInteractive',\n",
       "                                                     [key], {});\n",
       "          if (!dataTable) return;\n",
       "\n",
       "          const docLinkHtml = 'Like what you see? Visit the ' +\n",
       "            '<a target=\"_blank\" href=https://colab.research.google.com/notebooks/data_table.ipynb>data table notebook</a>'\n",
       "            + ' to learn more about interactive tables.';\n",
       "          element.innerHTML = '';\n",
       "          dataTable['output_type'] = 'display_data';\n",
       "          await google.colab.output.renderOutput(dataTable, element);\n",
       "          const docLink = document.createElement('div');\n",
       "          docLink.innerHTML = docLinkHtml;\n",
       "          element.appendChild(docLink);\n",
       "        }\n",
       "      </script>\n",
       "    </div>\n",
       "  </div>\n",
       "  "
      ],
      "text/plain": [
       "     SepalLength  SepalWidth  PetalLength  PetalWidth  Species\n",
       "0            6.4         2.8          5.6         2.2        2\n",
       "1            5.0         2.3          3.3         1.0        1\n",
       "2            4.9         2.5          4.5         1.7        2\n",
       "3            4.9         3.1          1.5         0.1        0\n",
       "4            5.7         3.8          1.7         0.3        0\n",
       "..           ...         ...          ...         ...      ...\n",
       "115          5.5         2.6          4.4         1.2        1\n",
       "116          5.7         3.0          4.2         1.2        1\n",
       "117          4.4         2.9          1.4         0.2        0\n",
       "118          4.8         3.0          1.4         0.1        0\n",
       "119          5.5         2.4          3.7         1.0        1\n",
       "\n",
       "[120 rows x 5 columns]"
      ]
     },
     "execution_count": 25,
     "metadata": {},
     "output_type": "execute_result"
    }
   ],
   "source": [
    "train = pd.read_csv(train_path, names=columns, header=0)  # 从第0行开始读入表格，并且重载列名称为columns\n",
    "test = pd.read_csv(test_path, names=columns, header=0)\n",
    "train"
   ]
  },
  {
   "cell_type": "code",
   "execution_count": 26,
   "metadata": {
    "id": "nM-Laq-0N5DT"
   },
   "outputs": [],
   "source": [
    "train_y = train.pop('Species')\n",
    "test_y = test.pop('Species')"
   ]
  },
  {
   "cell_type": "markdown",
   "metadata": {
    "id": "N7d8r9nvf6pD"
   },
   "source": [
    "### Input Function & 特征列"
   ]
  },
  {
   "cell_type": "code",
   "execution_count": 27,
   "metadata": {
    "id": "5ky_Tq3nP3R3"
   },
   "outputs": [],
   "source": [
    "def input_fn(x, y=None, training=True, batch_size=256):\n",
    "    ds = tf.data.Dataset.from_tensor_slices((dict(x), y))\n",
    "    if training:\n",
    "        ds = ds.shuffle(1000).repeat()  # 如果是训练数据，则既要打乱，又要无限生成，用steps控制训练次数\n",
    "    return ds.batch(batch_size)"
   ]
  },
  {
   "cell_type": "code",
   "execution_count": 28,
   "metadata": {
    "colab": {
     "base_uri": "https://localhost:8080/"
    },
    "id": "DzteCRMTQgJ5",
    "outputId": "076881aa-2eb4-4fb0-abab-fe74735c7cab"
   },
   "outputs": [
    {
     "data": {
      "text/plain": [
       "[NumericColumn(key='SepalLength', shape=(1,), default_value=None, dtype=tf.float32, normalizer_fn=None),\n",
       " NumericColumn(key='SepalWidth', shape=(1,), default_value=None, dtype=tf.float32, normalizer_fn=None),\n",
       " NumericColumn(key='PetalLength', shape=(1,), default_value=None, dtype=tf.float32, normalizer_fn=None),\n",
       " NumericColumn(key='PetalWidth', shape=(1,), default_value=None, dtype=tf.float32, normalizer_fn=None)]"
      ]
     },
     "execution_count": 28,
     "metadata": {},
     "output_type": "execute_result"
    }
   ],
   "source": [
    "feature = []\n",
    "for col in train.columns:\n",
    "    feature.append(tf.feature_column.numeric_column(col))\n",
    "feature"
   ]
  },
  {
   "cell_type": "markdown",
   "metadata": {
    "id": "n-lUSTWngGES"
   },
   "source": [
    "### 创建模型"
   ]
  },
  {
   "cell_type": "code",
   "execution_count": 29,
   "metadata": {
    "id": "fwjqm5U2Q-_O"
   },
   "outputs": [],
   "source": [
    "classifier = tf.estimator.DNNClassifier([64, 32], feature, n_classes=3)\n",
    "clear_output()"
   ]
  },
  {
   "cell_type": "code",
   "execution_count": 30,
   "metadata": {
    "colab": {
     "base_uri": "https://localhost:8080/"
    },
    "id": "fjLiPJiDSLQU",
    "outputId": "f710bdbe-3a62-4d73-f9d9-d6398c2de44c"
   },
   "outputs": [
    {
     "name": "stdout",
     "output_type": "stream",
     "text": [
      "INFO:tensorflow:Calling model_fn.\n",
      "INFO:tensorflow:Done calling model_fn.\n",
      "INFO:tensorflow:Create CheckpointSaverHook.\n",
      "INFO:tensorflow:Graph was finalized.\n",
      "INFO:tensorflow:Running local_init_op.\n",
      "INFO:tensorflow:Done running local_init_op.\n",
      "INFO:tensorflow:Calling checkpoint listeners before saving checkpoint 0...\n",
      "INFO:tensorflow:Saving checkpoints for 0 into /tmp/tmpbtbkxv6h/model.ckpt.\n",
      "INFO:tensorflow:Calling checkpoint listeners after saving checkpoint 0...\n",
      "INFO:tensorflow:loss = 1.2323792, step = 0\n",
      "INFO:tensorflow:global_step/sec: 155.325\n",
      "INFO:tensorflow:loss = 0.93429923, step = 100 (0.648 sec)\n",
      "INFO:tensorflow:global_step/sec: 165.494\n",
      "INFO:tensorflow:loss = 0.8593228, step = 200 (0.604 sec)\n",
      "INFO:tensorflow:global_step/sec: 150.621\n",
      "INFO:tensorflow:loss = 0.8066803, step = 300 (0.664 sec)\n",
      "INFO:tensorflow:global_step/sec: 149.47\n",
      "INFO:tensorflow:loss = 0.7546103, step = 400 (0.668 sec)\n",
      "INFO:tensorflow:global_step/sec: 126.533\n",
      "INFO:tensorflow:loss = 0.7137563, step = 500 (0.791 sec)\n",
      "INFO:tensorflow:global_step/sec: 161.04\n",
      "INFO:tensorflow:loss = 0.68511814, step = 600 (0.621 sec)\n",
      "INFO:tensorflow:global_step/sec: 164.698\n",
      "INFO:tensorflow:loss = 0.65668136, step = 700 (0.607 sec)\n",
      "INFO:tensorflow:global_step/sec: 131.334\n",
      "INFO:tensorflow:loss = 0.6174137, step = 800 (0.761 sec)\n",
      "INFO:tensorflow:global_step/sec: 144.483\n",
      "INFO:tensorflow:loss = 0.6017063, step = 900 (0.699 sec)\n",
      "INFO:tensorflow:global_step/sec: 138.892\n",
      "INFO:tensorflow:loss = 0.58008367, step = 1000 (0.717 sec)\n",
      "INFO:tensorflow:global_step/sec: 118.177\n",
      "INFO:tensorflow:loss = 0.5666679, step = 1100 (0.842 sec)\n",
      "INFO:tensorflow:global_step/sec: 152.743\n",
      "INFO:tensorflow:loss = 0.54865164, step = 1200 (0.655 sec)\n",
      "INFO:tensorflow:global_step/sec: 139.924\n",
      "INFO:tensorflow:loss = 0.52795815, step = 1300 (0.714 sec)\n",
      "INFO:tensorflow:global_step/sec: 132.89\n",
      "INFO:tensorflow:loss = 0.51020604, step = 1400 (0.755 sec)\n",
      "INFO:tensorflow:global_step/sec: 137.353\n",
      "INFO:tensorflow:loss = 0.4976202, step = 1500 (0.725 sec)\n",
      "INFO:tensorflow:global_step/sec: 135.204\n",
      "INFO:tensorflow:loss = 0.4835481, step = 1600 (0.742 sec)\n",
      "INFO:tensorflow:global_step/sec: 146.481\n",
      "INFO:tensorflow:loss = 0.48694348, step = 1700 (0.687 sec)\n",
      "INFO:tensorflow:global_step/sec: 153.203\n",
      "INFO:tensorflow:loss = 0.46631086, step = 1800 (0.653 sec)\n",
      "INFO:tensorflow:global_step/sec: 134.776\n",
      "INFO:tensorflow:loss = 0.45304498, step = 1900 (0.736 sec)\n",
      "INFO:tensorflow:global_step/sec: 214.517\n",
      "INFO:tensorflow:loss = 0.44317353, step = 2000 (0.467 sec)\n",
      "INFO:tensorflow:global_step/sec: 140.883\n",
      "INFO:tensorflow:loss = 0.44007182, step = 2100 (0.711 sec)\n",
      "INFO:tensorflow:global_step/sec: 181.617\n",
      "INFO:tensorflow:loss = 0.4314807, step = 2200 (0.552 sec)\n",
      "INFO:tensorflow:global_step/sec: 195.188\n",
      "INFO:tensorflow:loss = 0.42249393, step = 2300 (0.508 sec)\n",
      "INFO:tensorflow:global_step/sec: 260.986\n",
      "INFO:tensorflow:loss = 0.4117701, step = 2400 (0.383 sec)\n",
      "INFO:tensorflow:global_step/sec: 384.223\n",
      "INFO:tensorflow:loss = 0.40350473, step = 2500 (0.259 sec)\n",
      "INFO:tensorflow:global_step/sec: 376.765\n",
      "INFO:tensorflow:loss = 0.39375654, step = 2600 (0.269 sec)\n",
      "INFO:tensorflow:global_step/sec: 398.518\n",
      "INFO:tensorflow:loss = 0.3901026, step = 2700 (0.251 sec)\n",
      "INFO:tensorflow:global_step/sec: 373.586\n",
      "INFO:tensorflow:loss = 0.38958216, step = 2800 (0.268 sec)\n",
      "INFO:tensorflow:global_step/sec: 392.57\n",
      "INFO:tensorflow:loss = 0.37573785, step = 2900 (0.251 sec)\n",
      "INFO:tensorflow:global_step/sec: 385.611\n",
      "INFO:tensorflow:loss = 0.37343636, step = 3000 (0.262 sec)\n",
      "INFO:tensorflow:global_step/sec: 369.646\n",
      "INFO:tensorflow:loss = 0.35790688, step = 3100 (0.273 sec)\n",
      "INFO:tensorflow:global_step/sec: 349.287\n",
      "INFO:tensorflow:loss = 0.3566236, step = 3200 (0.284 sec)\n",
      "INFO:tensorflow:global_step/sec: 355.195\n",
      "INFO:tensorflow:loss = 0.35958174, step = 3300 (0.278 sec)\n",
      "INFO:tensorflow:global_step/sec: 388.274\n",
      "INFO:tensorflow:loss = 0.34410834, step = 3400 (0.260 sec)\n",
      "INFO:tensorflow:global_step/sec: 391.681\n",
      "INFO:tensorflow:loss = 0.3459552, step = 3500 (0.255 sec)\n",
      "INFO:tensorflow:global_step/sec: 379.889\n",
      "INFO:tensorflow:loss = 0.33640802, step = 3600 (0.262 sec)\n",
      "INFO:tensorflow:global_step/sec: 396.267\n",
      "INFO:tensorflow:loss = 0.34308112, step = 3700 (0.252 sec)\n",
      "INFO:tensorflow:global_step/sec: 387.683\n",
      "INFO:tensorflow:loss = 0.3429162, step = 3800 (0.261 sec)\n",
      "INFO:tensorflow:global_step/sec: 426.798\n",
      "INFO:tensorflow:loss = 0.32353643, step = 3900 (0.235 sec)\n",
      "INFO:tensorflow:global_step/sec: 409.35\n",
      "INFO:tensorflow:loss = 0.3181571, step = 4000 (0.244 sec)\n",
      "INFO:tensorflow:global_step/sec: 377.611\n",
      "INFO:tensorflow:loss = 0.31619278, step = 4100 (0.266 sec)\n",
      "INFO:tensorflow:global_step/sec: 393.989\n",
      "INFO:tensorflow:loss = 0.3099379, step = 4200 (0.254 sec)\n",
      "INFO:tensorflow:global_step/sec: 387.142\n",
      "INFO:tensorflow:loss = 0.30420744, step = 4300 (0.254 sec)\n",
      "INFO:tensorflow:global_step/sec: 407.968\n",
      "INFO:tensorflow:loss = 0.29653984, step = 4400 (0.248 sec)\n",
      "INFO:tensorflow:global_step/sec: 376.979\n",
      "INFO:tensorflow:loss = 0.29760137, step = 4500 (0.266 sec)\n",
      "INFO:tensorflow:global_step/sec: 387.108\n",
      "INFO:tensorflow:loss = 0.29058188, step = 4600 (0.258 sec)\n",
      "INFO:tensorflow:global_step/sec: 392.172\n",
      "INFO:tensorflow:loss = 0.2826501, step = 4700 (0.255 sec)\n",
      "INFO:tensorflow:global_step/sec: 380.024\n",
      "INFO:tensorflow:loss = 0.2832917, step = 4800 (0.263 sec)\n",
      "INFO:tensorflow:global_step/sec: 346.474\n",
      "INFO:tensorflow:loss = 0.2620409, step = 4900 (0.288 sec)\n",
      "INFO:tensorflow:Calling checkpoint listeners before saving checkpoint 5000...\n",
      "INFO:tensorflow:Saving checkpoints for 5000 into /tmp/tmpbtbkxv6h/model.ckpt.\n",
      "INFO:tensorflow:Calling checkpoint listeners after saving checkpoint 5000...\n",
      "INFO:tensorflow:Loss for final step: 0.27490008.\n"
     ]
    },
    {
     "data": {
      "text/plain": [
       "<tensorflow_estimator.python.estimator.canned.dnn.DNNClassifierV2 at 0x7fa6e8a2a490>"
      ]
     },
     "execution_count": 30,
     "metadata": {},
     "output_type": "execute_result"
    }
   ],
   "source": [
    "classifier.train(\n",
    "    lambda: input_fn(train, train_y),\n",
    "    steps=5000\n",
    ")"
   ]
  },
  {
   "cell_type": "code",
   "execution_count": 31,
   "metadata": {
    "id": "LKkmss_bSvKw"
   },
   "outputs": [],
   "source": [
    "result = classifier.evaluate(lambda: input_fn(test, test_y, training=False))\n",
    "clear_output()"
   ]
  },
  {
   "cell_type": "code",
   "execution_count": 32,
   "metadata": {
    "colab": {
     "base_uri": "https://localhost:8080/"
    },
    "id": "5Bw_ymUXXy87",
    "outputId": "995e22c6-59cc-4f82-fc81-0e6c603845ca"
   },
   "outputs": [
    {
     "data": {
      "text/plain": [
       "{'accuracy': 0.96666664,\n",
       " 'average_loss': 0.31678727,\n",
       " 'global_step': 5000,\n",
       " 'loss': 0.31678727}"
      ]
     },
     "execution_count": 32,
     "metadata": {},
     "output_type": "execute_result"
    }
   ],
   "source": [
    "result"
   ]
  },
  {
   "cell_type": "markdown",
   "metadata": {
    "id": "Oc1Zu16JgO99"
   },
   "source": [
    "### 自定义输入验证"
   ]
  },
  {
   "cell_type": "code",
   "execution_count": 33,
   "metadata": {
    "colab": {
     "base_uri": "https://localhost:8080/"
    },
    "id": "TQyO1XcwY-Xs",
    "outputId": "baa86671-edd3-4595-a728-c3c5c85741e3"
   },
   "outputs": [
    {
     "name": "stdout",
     "output_type": "stream",
     "text": [
      "SepalLength: 1.2\n",
      "SepalWidth: 1.2\n",
      "PetalLength: 1.2\n",
      "PetalWidth: 1.2\n"
     ]
    }
   ],
   "source": [
    "# 自定义输入，预测\n",
    "predict = {}  # 初始化字典\n",
    "for col in columns[0:4]:\n",
    "    valid = False\n",
    "    while not valid:\n",
    "        val = input(col + ': ')\n",
    "        if type(eval(val)) == float: valid = True\n",
    "    predict[col] = [float(val)]"
   ]
  },
  {
   "cell_type": "code",
   "execution_count": 34,
   "metadata": {
    "colab": {
     "base_uri": "https://localhost:8080/"
    },
    "id": "1pRBykzaanEy",
    "outputId": "bc46ef5f-a994-409f-d68c-5c9b115e0896"
   },
   "outputs": [
    {
     "name": "stdout",
     "output_type": "stream",
     "text": [
      "INFO:tensorflow:Calling model_fn.\n",
      "INFO:tensorflow:Done calling model_fn.\n",
      "INFO:tensorflow:Graph was finalized.\n",
      "INFO:tensorflow:Restoring parameters from /tmp/tmpbtbkxv6h/model.ckpt-5000\n",
      "INFO:tensorflow:Running local_init_op.\n",
      "INFO:tensorflow:Done running local_init_op.\n",
      "预测为 \"Versicolor\" (40.62%)\n"
     ]
    }
   ],
   "source": [
    "result = list(classifier.predict(lambda: input_fn(predict, training=False)))\n",
    "def print_pred(dic):\n",
    "    class_id = dic['class_ids'][0]\n",
    "    probability = dic['probabilities'][class_id]\n",
    "    print('预测为 \"{}\" ({:.2f}%)'.format(species[class_id], 100 * probability))\n",
    "print_pred(result[0])"
   ]
  },
  {
   "cell_type": "code",
   "execution_count": 35,
   "metadata": {
    "colab": {
     "base_uri": "https://localhost:8080/"
    },
    "id": "UTLGo4BafS74",
    "outputId": "a1b8cfae-8d0c-427e-c31c-4915ad5d753c"
   },
   "outputs": [
    {
     "name": "stdout",
     "output_type": "stream",
     "text": [
      "INFO:tensorflow:Calling model_fn.\n",
      "INFO:tensorflow:Done calling model_fn.\n",
      "INFO:tensorflow:Graph was finalized.\n",
      "INFO:tensorflow:Restoring parameters from /tmp/tmpbtbkxv6h/model.ckpt-5000\n",
      "INFO:tensorflow:Running local_init_op.\n",
      "INFO:tensorflow:Done running local_init_op.\n",
      "预测为 \"Setosa\" (91.70%)\n",
      "预测为 \"Versicolor\" (63.99%)\n",
      "预测为 \"Virginica\" (67.77%)\n"
     ]
    }
   ],
   "source": [
    "# 三个小例子\n",
    "expected = ['Setosa', 'Versicolor', 'Virginica']\n",
    "predict_x = {\n",
    "    'SepalLength': [5.1, 5.9, 6.9],\n",
    "    'SepalWidth': [3.3, 3.0, 3.1],\n",
    "    'PetalLength': [1.7, 4.2, 5.4],\n",
    "    'PetalWidth': [0.5, 1.5, 2.1],\n",
    "}\n",
    "result = list(classifier.predict(lambda: input_fn(predict_x, training=False)))\n",
    "for dic in result:\n",
    "    print_pred(dic)"
   ]
  },
  {
   "cell_type": "markdown",
   "metadata": {
    "id": "inDU71w7tqAm"
   },
   "source": [
    "## Clusting 聚类算法\n",
    "### K-Means\n",
    "这里只做简单的介绍，目标是根据数据集将整个数据集分为 $k$ 个部分，然后对于每个给出的元素，预测它所处于哪个部分.\n",
    "\n",
    "1. 随机选 $k$ 个点设置 $k$ 个质心（centroid），用于聚类的定位.\n",
    "2. 将每个点分配到距离它最近的质心上（距离可以取Euclidean距离，Manhattan距离等）.\n",
    "3. 根据一个质心包含的全部点，重新计算它们的质心（center of mass）.\n",
    "4. 重复2, 3步，直到每个点从属的质心不再改变（质心不再移动）.\n",
    "\n",
    "对于每个预测的点，只需计算出距离最近的质心，即为它所预测的类别."
   ]
  },
  {
   "cell_type": "markdown",
   "metadata": {
    "id": "xf81SMIKmx1q"
   },
   "source": [
    "## 隐Markov模型\n",
    "包含三个关键变量：\n",
    "- states：在每个Markov模型中，有有限组states，比如：天气的hot, cold；温度的high, low；等等\n",
    "- observation：每个state下都有一个与特定概率分布相关的obervation（观察的事件），比如：hot下Tim有80%高兴，20%不高兴，cold下Tim有30%高兴，70%不高兴.\n",
    "- Transitions：任意两个states之间有特定的概率进行转移，比如：第一天是cold，则第二天有20%是hot，70%是cold.\n",
    "\n",
    "创建一个Markov模型需要给定：\n",
    "- states\n",
    "- observation distribution\n",
    "- trainsition distribution\n",
    "\n",
    "通过前面给定的几天的信息，预测后面的status. （也就是对时间序列进行预测）\n"
   ]
  },
  {
   "cell_type": "markdown",
   "metadata": {
    "id": "eobdh9kSaYqH"
   },
   "source": [
    "### 天气模型\n",
    "这里以一个天气模型为例.\n",
    "\n",
    "1. cold编码为0，hot编码为1.\n",
    "2. 时间序列的第一天有80%的概率为cold.\n",
    "3. cold有30%转化为hot.\n",
    "4. hot有20%转化为cold.\n",
    "5. cold day温度的均值为0，标准差为5，hot day温度的均值为15，标准差为10."
   ]
  },
  {
   "cell_type": "code",
   "execution_count": 36,
   "metadata": {
    "id": "r6LoBigLbVhF"
   },
   "outputs": [],
   "source": [
    "import tensorflow as tf\n",
    "import tensorflow_probability as tfp\n",
    "import numpy as np"
   ]
  },
  {
   "cell_type": "markdown",
   "metadata": {
    "id": "HN-xEKD5fy0I"
   },
   "source": [
    "#### tfp（tensorflow_probability）概率密度\n",
    "下文中tensorflow中把它称为分布函数，其实是概率密度函数 $p(x)$，不是分布函数 $F(x)$.\n",
    "\n",
    "这里会用到 `tfd = tfp.distributinos` 中的两种概率分布：\n",
    "- 分布律：`tfd.Categorical(prob=[p1, p2, ..., pn])`，其中 $p_1+\\cdots+p_n=1$，随机变量 $X$ 满足如下分布律：\n",
    "$$\n",
    "X\\sim\\left(\\begin{matrix}1&2&\\cdots&n\\\\p_1&p_2&\\cdots&p_n\\end{matrix}\\right)\n",
    "$$\n",
    "- 正态分布：`tfd.Normal(loc, scale)`，其中 `loc` 为偏移，`scale` 为缩放，正态分布如下：\n",
    "$$\n",
    "N(x; \\mu,\\sigma) = \\frac{1}{\\sqrt{2\\pi}\\sigma}e^{-\\frac{(x-\\mu)^2}{2\\sigma^2}}\n",
    "$$\n",
    "则上述的 $\\text{loc} = \\mu$，$\\text{scale}=\\sigma$，这里可以同时创建多组正态分布，只需写成向量的形式即可.\n",
    "\n",
    "概率分布有几种通用的api：\n",
    "- `dist.prob(x)` 输出概率密度函数 $p(x)$ 的值.\n",
    "- `dist.cdf(x)` 输出分布函数 $F(x)$ 的值（cumulative distribution function）.\n",
    "- `dist.sample(n)` 根据dist的概率分布，随机取出 $n$ 个样本."
   ]
  },
  {
   "cell_type": "code",
   "execution_count": 37,
   "metadata": {
    "colab": {
     "base_uri": "https://localhost:8080/"
    },
    "id": "ziKYG3gjiaFw",
    "outputId": "d79734ab-41a4-4e81-bd99-f2049e3a5f75"
   },
   "outputs": [
    {
     "name": "stdout",
     "output_type": "stream",
     "text": [
      "tf.Tensor(0.39695257, shape=(), dtype=float32)\n",
      "验证：0.3969525474770118\n",
      "tf.Tensor(0.5, shape=(), dtype=float32)\n",
      "tf.Tensor([ 0.24239153  0.91446084 -0.9471327 ], shape=(3,), dtype=float32)\n",
      "tf.Tensor([0.5       0.4207403], shape=(2,), dtype=float32)\n"
     ]
    }
   ],
   "source": [
    "tfd = tfp.distributions  #　这里的分布函数就是概率密度函数\n",
    "dist = tfd.Normal(0, 1)  # 创建一个标准正态分布\n",
    "print(dist.prob(0.1))  # 输出x=0.1的概率\n",
    "N = lambda x: np.exp(-np.power(x, 2) / 2) / (np.sqrt(2 * np.pi))\n",
    "print('验证：{}'.format(N(0.1)))\n",
    "print(dist.cdf(0))  # 输出x=0的分布函数值\n",
    "print(dist.sample(3))  # 以该概率分布输出3个样本\n",
    "dist = tfd.Normal([0, 1], [1, 5])  # 以0, 1和1, 5为均值和标准差的两个正态分布\n",
    "print(dist.cdf(0))"
   ]
  },
  {
   "cell_type": "markdown",
   "metadata": {
    "id": "10PJEAsll_ja"
   },
   "source": [
    "这里引入概率分布是为了完成上述各种概率的描述，引入正态分布其实是为了满足第5条，由中心极限定理可知，$n$ 个独立同分布的随机变量，当 $n$ 充分大时，随机变量的和近似于正态分布，所以可以用正态分布近似当前的每天温度的概率分布."
   ]
  },
  {
   "cell_type": "code",
   "execution_count": 38,
   "metadata": {
    "id": "UYZNNQogbixZ"
   },
   "outputs": [],
   "source": [
    "tfd = tfp.distributions  # 缩写distribution模块\n",
    "init = tfd.Categorical(probs=[0.8, 0.2])  # 第2条\n",
    "transition = tfd.Categorical(probs=[[0.7, 0.3], [0.2, 0.8]])  # 第3，4条\n",
    "observation = tfd.Normal([0, 15], [5, 10])  # 第5条"
   ]
  },
  {
   "cell_type": "markdown",
   "metadata": {
    "id": "qsiIzrwjbxzv"
   },
   "source": [
    "#### 创建隐Markov模型\n",
    "\n",
    "参考 [tfp.distributions.HiddenMarkovModel - API](https://tensorflow.google.cn/probability/api_docs/python/tfp/distributions/HiddenMarkovModel)，可知创建一个隐Markov模型至少需要如下几个参数：\n",
    "```python\n",
    "tfp.distributions.HiddenMarkovModel(\n",
    "    initial_distribution,  # 初始分布律\n",
    "    transition_distribution,  # 转移分布律\n",
    "    observation_distribution,  # 观察分布律\n",
    "    num_steps,  # Markov链的长度（这里就是期望预测的天数）\n",
    "}\n",
    "```"
   ]
  },
  {
   "cell_type": "code",
   "execution_count": 39,
   "metadata": {
    "id": "Jxmqhv5jqZIA"
   },
   "outputs": [],
   "source": [
    "model = tfd.HiddenMarkovModel(init, transition, observation, 7)"
   ]
  },
  {
   "cell_type": "code",
   "execution_count": 40,
   "metadata": {
    "colab": {
     "base_uri": "https://localhost:8080/"
    },
    "id": "kd6UXc_hqnXL",
    "outputId": "d7c9733a-0e2a-47a7-d70e-02c1d0e16f48"
   },
   "outputs": [
    {
     "name": "stdout",
     "output_type": "stream",
     "text": [
      "tf.Tensor([2.9999998 5.9999995 7.4999995 8.25      8.625001  8.812501  8.90625  ], shape=(7,), dtype=float32)\n"
     ]
    }
   ],
   "source": [
    "print(model.mean())  # 预期后续7天每天的温度"
   ]
  },
  {
   "cell_type": "code",
   "execution_count": 41,
   "metadata": {
    "colab": {
     "base_uri": "https://localhost:8080/"
    },
    "id": "LrqbTVo9rp4M",
    "outputId": "ee04694e-5fb2-466c-db9d-477942767e74"
   },
   "outputs": [
    {
     "data": {
      "text/plain": [
       "<tf.Tensor: shape=(), dtype=float32, numpy=2.3812634e-09>"
      ]
     },
     "execution_count": 41,
     "metadata": {},
     "output_type": "execute_result"
    }
   ],
   "source": [
    "model.prob(tf.zeros(shape=[7]))  # 预测后续7天均为0度的概率"
   ]
  }
 ],
 "metadata": {
  "colab": {
   "collapsed_sections": [],
   "name": "Tensorflow Core Learning Algorithms.ipynb",
   "provenance": [],
   "toc_visible": true
  },
  "kernelspec": {
   "display_name": "Python 3 (ipykernel)",
   "language": "python",
   "name": "python3"
  },
  "language_info": {
   "codemirror_mode": {
    "name": "ipython",
    "version": 3
   },
   "file_extension": ".py",
   "mimetype": "text/x-python",
   "name": "python",
   "nbconvert_exporter": "python",
   "pygments_lexer": "ipython3",
   "version": "3.9.7"
  }
 },
 "nbformat": 4,
 "nbformat_minor": 1
}
